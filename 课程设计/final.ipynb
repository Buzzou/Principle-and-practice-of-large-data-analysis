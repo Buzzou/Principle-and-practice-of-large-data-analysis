{
 "cells": [
  {
   "cell_type": "code",
   "execution_count": 1,
   "metadata": {
    "collapsed": true
   },
   "outputs": [
    {
     "name": "stdout",
     "output_type": "stream",
     "text": [
      "           信用卡顾客编号  申请书来源  瑕疵户  逾期  呆账  借款余额  退票  拒往记录  强制停卡记录  张数  ...  \\\n",
      "0      CDMS0000001      5    2   2   2     2   2     2       2   1  ...   \n",
      "1      CDMS0000002      3    2   2   2     2   2     2       2   2  ...   \n",
      "2      CDMS0000003      2    2   2   2     2   2     2       2   2  ...   \n",
      "3      CDMS0000004      3    2   2   2     2   2     2       2   2  ...   \n",
      "4      CDMS0000005      6    2   2   2     2   2     2       2   2  ...   \n",
      "...            ...    ...  ...  ..  ..   ...  ..   ...     ...  ..  ...   \n",
      "65530  CDMS0065531      4    2   2   2     2   2     2       2   2  ...   \n",
      "65531  CDMS0065532      3    2   2   2     2   2     2       2   2  ...   \n",
      "65532  CDMS0065533      3    2   2   2     2   2     2       2   2  ...   \n",
      "65533  CDMS0065534      6    2   1   1     1   1     1       1   3  ...   \n",
      "65534  CDMS0065535      5    2   2   2     2   2     2       2   1  ...   \n",
      "\n",
      "       个人月收入  个人月开销  住家  家庭月收入  月刷卡额  宗教信仰  人口数  家庭经济  血型  星座  \n",
      "0          1      1   1      1     1     2    4     4   4  10  \n",
      "1          1      2   1      1     2     1    4     4   1   5  \n",
      "2          1      1   1      1     6     6    6     5   1   7  \n",
      "3          1      1   1      1     4     2    4     3   2   6  \n",
      "4          1      3   1      1     5     1    4     3   4   6  \n",
      "...      ...    ...  ..    ...   ...   ...  ...   ...  ..  ..  \n",
      "65530      4      2   5      4     5     7    6     2   4   6  \n",
      "65531      4      2   5      4     6     3    6     1   4   4  \n",
      "65532      4      2   5      4     3     1    4     1   3   1  \n",
      "65533      4      4   5      4     2     6    1     3   1  12  \n",
      "65534      1      1   1      1     1     2    4     4   4  10  \n",
      "\n",
      "[65535 rows x 28 columns]\n"
     ]
    }
   ],
   "source": [
    "# 读取信用卡数据\n",
    "import numpy as np\n",
    "import pandas as pd\n",
    "\n",
    "credit_card_data = pd.read_csv('credit_card.csv', encoding='gbk')\n",
    "print(credit_card_data)"
   ]
  },
  {
   "cell_type": "code",
   "execution_count": 2,
   "outputs": [
    {
     "name": "stdout",
     "output_type": "stream",
     "text": [
      "现在的维度！： (63339, 28)\n"
     ]
    }
   ],
   "source": [
    "# 丢弃 逾期==呆帐==强制停卡==退票==拒往记录==1 && 瑕疵户==2 的行\n",
    "credit_card_data = credit_card_data.drop(credit_card_data[(credit_card_data['逾期'] == 1) &\n",
    "                                                          (credit_card_data['呆账'] == 1) &\n",
    "                                                          (credit_card_data['强制停卡记录'] == 1) &\n",
    "                                                          (credit_card_data['退票'] == 1) &\n",
    "                                                          (credit_card_data['拒往记录'] == 1) &\n",
    "                                                          (credit_card_data['瑕疵户'] == 2)].index)\n",
    "print('现在的维度！：', credit_card_data.shape)"
   ],
   "metadata": {
    "collapsed": false,
    "pycharm": {
     "name": "#%%\n"
    }
   }
  },
  {
   "cell_type": "code",
   "execution_count": 3,
   "outputs": [
    {
     "name": "stdout",
     "output_type": "stream",
     "text": [
      "现在的维度！！： (63081, 28)\n"
     ]
    }
   ],
   "source": [
    "# 丢弃 呆账==强制停卡==退票==1 && 拒往记录==2 的行\n",
    "credit_card_data = credit_card_data.drop(credit_card_data[\n",
    "                                             (credit_card_data['呆账'] == 1) &\n",
    "                                             (credit_card_data['强制停卡记录'] == 1) &\n",
    "                                             (credit_card_data['退票'] == 1) &\n",
    "                                             (credit_card_data['拒往记录'] == 2)\n",
    "                                             ].index)\n",
    "print('现在的维度！！：', credit_card_data.shape)"
   ],
   "metadata": {
    "collapsed": false,
    "pycharm": {
     "name": "#%%\n"
    }
   }
  },
  {
   "cell_type": "code",
   "execution_count": 48,
   "outputs": [
    {
     "name": "stdout",
     "output_type": "stream",
     "text": [
      "现在的维度！！!： (60578, 28)\n"
     ]
    }
   ],
   "source": [
    "# 丢弃频率==5 && 刷卡金额!=1 的行\n",
    "credit_card_data = credit_card_data.drop(credit_card_data[\n",
    "                                             (credit_card_data['频率'] == 5) &\n",
    "                                             (credit_card_data['月刷卡额'] != 1)\n",
    "                                             ].index)\n",
    "print('现在的维度！！!：', credit_card_data.shape)"
   ],
   "metadata": {
    "collapsed": false,
    "pycharm": {
     "name": "#%%\n"
    }
   }
  },
  {
   "cell_type": "code",
   "execution_count": 17,
   "outputs": [
    {
     "name": "stdout",
     "output_type": "stream",
     "text": [
      "           申请书来源       瑕疵户        逾期        呆账      借款余额        退票      拒往记录  \\\n",
      "申请书来源   1.000000 -0.024947 -0.018208 -0.027584 -0.036161  0.024502 -0.023136   \n",
      "瑕疵户    -0.024947  1.000000  0.938601  0.906131  0.884569  0.919011  0.862152   \n",
      "逾期     -0.018208  0.938601  1.000000  0.880118  0.843753  0.917134  0.799604   \n",
      "呆账     -0.027584  0.906131  0.880118  1.000000  0.872073  0.836368  0.867265   \n",
      "借款余额   -0.036161  0.884569  0.843753  0.872073  1.000000  0.824866  0.923358   \n",
      "退票      0.024502  0.919011  0.917134  0.836368  0.824866  1.000000  0.800673   \n",
      "拒往记录   -0.023136  0.862152  0.799604  0.867265  0.923358  0.800673  1.000000   \n",
      "强制停卡记录 -0.020370  0.971477  0.951528  0.880285  0.877896  0.932399  0.837070   \n",
      "张数     -0.009874  0.006195 -0.008786 -0.003584 -0.017605 -0.014791 -0.008767   \n",
      "频率     -0.009948  0.057248  0.042707  0.049342  0.048541  0.043139  0.039552   \n",
      "户籍      0.012630 -0.002656 -0.002714 -0.018385 -0.007398 -0.016694  0.019837   \n",
      "都市化程度  -0.030587 -0.015191 -0.003832 -0.005443 -0.022324  0.003544 -0.011500   \n",
      "性別      0.021660 -0.001169 -0.027747 -0.028634 -0.022238 -0.008902 -0.020946   \n",
      "年龄      0.071310  0.013122  0.019031  0.023356 -0.008329  0.020623  0.010092   \n",
      "婚姻      0.034620  0.034428  0.025987  0.019265  0.012807  0.025653  0.027221   \n",
      "学历      0.018242 -0.034556 -0.036131 -0.010358 -0.011507 -0.036057 -0.008448   \n",
      "职业      0.041123  0.032811  0.038891  0.029186  0.020057  0.030972  0.023054   \n",
      "个人月收入   0.019718  0.012042 -0.003158 -0.010501  0.029213  0.006245  0.019366   \n",
      "个人月开销   0.039496  0.000136 -0.006894 -0.004081 -0.016987  0.002322 -0.019620   \n",
      "住家     -0.022902  0.030870  0.030374  0.001640  0.023690  0.010274  0.026983   \n",
      "家庭月收入   0.043533 -0.005029 -0.013317 -0.019542  0.012863 -0.002246  0.010540   \n",
      "月刷卡额   -0.002635 -0.002745  0.020152 -0.016889  0.017698 -0.000335 -0.002534   \n",
      "宗教信仰    0.016678  0.037429  0.022038  0.046828  0.042003  0.029527  0.032599   \n",
      "人口数     0.004241  0.011671  0.036176  0.028508  0.008216  0.010263  0.012938   \n",
      "家庭经济    0.008764  0.007639  0.006311  0.013846 -0.002930 -0.003045  0.000193   \n",
      "血型      0.010689 -0.028644 -0.040765 -0.041165 -0.047031 -0.019497 -0.031150   \n",
      "星座     -0.065099 -0.046358 -0.047677 -0.053335 -0.056494 -0.034192 -0.064321   \n",
      "\n",
      "          强制停卡记录        张数        频率  ...     个人月收入     个人月开销        住家  \\\n",
      "申请书来源  -0.020370 -0.009874 -0.009948  ...  0.019718  0.039496 -0.022902   \n",
      "瑕疵户     0.971477  0.006195  0.057248  ...  0.012042  0.000136  0.030870   \n",
      "逾期      0.951528 -0.008786  0.042707  ... -0.003158 -0.006894  0.030374   \n",
      "呆账      0.880285 -0.003584  0.049342  ... -0.010501 -0.004081  0.001640   \n",
      "借款余额    0.877896 -0.017605  0.048541  ...  0.029213 -0.016987  0.023690   \n",
      "退票      0.932399 -0.014791  0.043139  ...  0.006245  0.002322  0.010274   \n",
      "拒往记录    0.837070 -0.008767  0.039552  ...  0.019366 -0.019620  0.026983   \n",
      "强制停卡记录  1.000000  0.001369  0.054645  ...  0.011494  0.001230  0.020062   \n",
      "张数      0.001369  1.000000  0.007098  ... -0.042146 -0.022012  0.037101   \n",
      "频率      0.054645  0.007098  1.000000  ... -0.004176 -0.014555 -0.026694   \n",
      "户籍     -0.002406  0.026450  0.039962  ... -0.061709 -0.000661 -0.003234   \n",
      "都市化程度  -0.020159  0.038778  0.000445  ... -0.034164 -0.002392  0.013323   \n",
      "性別     -0.016873  0.017797  0.031824  ...  0.056828 -0.013529  0.074074   \n",
      "年龄      0.005958 -0.031261  0.031664  ... -0.061841 -0.007643 -0.047024   \n",
      "婚姻      0.023702 -0.002472 -0.026239  ... -0.043571  0.000836  0.032603   \n",
      "学历     -0.040412 -0.009498  0.026506  ... -0.019470 -0.048561 -0.032772   \n",
      "职业      0.029217  0.004036  0.016301  ...  0.154548 -0.019327  0.209242   \n",
      "个人月收入   0.011494 -0.042146 -0.004176  ...  1.000000  0.013665  0.007242   \n",
      "个人月开销   0.001230 -0.022012 -0.014555  ...  0.013665  1.000000  0.028165   \n",
      "住家      0.020062  0.037101 -0.026694  ...  0.007242  0.028165  1.000000   \n",
      "家庭月收入  -0.007526 -0.005972  0.006186  ...  0.430502  0.014114  0.078240   \n",
      "月刷卡额    0.005305 -0.008696 -0.008369  ...  0.127512 -0.015611  0.111807   \n",
      "宗教信仰    0.035438 -0.006529  0.010206  ... -0.030197  0.036285 -0.041966   \n",
      "人口数     0.022926 -0.006769 -0.004480  ... -0.015953  0.021875 -0.038260   \n",
      "家庭经济    0.007055  0.036746  0.019233  ... -0.563134  0.010665  0.012535   \n",
      "血型     -0.042048  0.006664 -0.015293  ... -0.002593 -0.027735  0.026664   \n",
      "星座     -0.049144  0.002225 -0.032009  ... -0.003616 -0.015975 -0.066668   \n",
      "\n",
      "           家庭月收入      月刷卡额      宗教信仰       人口数      家庭经济        血型        星座  \n",
      "申请书来源   0.043533 -0.002635  0.016678  0.004241  0.008764  0.010689 -0.065099  \n",
      "瑕疵户    -0.005029 -0.002745  0.037429  0.011671  0.007639 -0.028644 -0.046358  \n",
      "逾期     -0.013317  0.020152  0.022038  0.036176  0.006311 -0.040765 -0.047677  \n",
      "呆账     -0.019542 -0.016889  0.046828  0.028508  0.013846 -0.041165 -0.053335  \n",
      "借款余额    0.012863  0.017698  0.042003  0.008216 -0.002930 -0.047031 -0.056494  \n",
      "退票     -0.002246 -0.000335  0.029527  0.010263 -0.003045 -0.019497 -0.034192  \n",
      "拒往记录    0.010540 -0.002534  0.032599  0.012938  0.000193 -0.031150 -0.064321  \n",
      "强制停卡记录 -0.007526  0.005305  0.035438  0.022926  0.007055 -0.042048 -0.049144  \n",
      "张数     -0.005972 -0.008696 -0.006529 -0.006769  0.036746  0.006664  0.002225  \n",
      "频率      0.006186 -0.008369  0.010206 -0.004480  0.019233 -0.015293 -0.032009  \n",
      "户籍     -0.025325 -0.016160 -0.026350 -0.024670  0.033425  0.041781 -0.052993  \n",
      "都市化程度   0.029432 -0.030000  0.011574  0.015922  0.007131  0.014392  0.027339  \n",
      "性別      0.067889  0.055292  0.028740  0.009302 -0.040036  0.029503 -0.042049  \n",
      "年龄     -0.036297 -0.011811  0.015350 -0.022239  0.044006  0.004106 -0.038738  \n",
      "婚姻     -0.053322  0.048663  0.009683  0.029996  0.006820 -0.023933  0.047350  \n",
      "学历     -0.013890 -0.029434 -0.009765  0.005383  0.025538  0.030115 -0.017508  \n",
      "职业      0.057996  0.238206 -0.041416  0.015066 -0.016818  0.037041 -0.039740  \n",
      "个人月收入   0.430502  0.127512 -0.030197 -0.015953 -0.563134 -0.002593 -0.003616  \n",
      "个人月开销   0.014114 -0.015611  0.036285  0.021875  0.010665 -0.027735 -0.015975  \n",
      "住家      0.078240  0.111807 -0.041966 -0.038260  0.012535  0.026664 -0.066668  \n",
      "家庭月收入   1.000000  0.180340  0.006737  0.033885 -0.438281  0.041113 -0.017627  \n",
      "月刷卡额    0.180340  1.000000  0.003133  0.035455 -0.095120  0.048627 -0.032054  \n",
      "宗教信仰    0.006737  0.003133  1.000000  0.011679 -0.002468  0.019001 -0.007500  \n",
      "人口数     0.033885  0.035455  0.011679  1.000000 -0.023400 -0.023815 -0.017937  \n",
      "家庭经济   -0.438281 -0.095120 -0.002468 -0.023400  1.000000 -0.022785 -0.002467  \n",
      "血型      0.041113  0.048627  0.019001 -0.023815 -0.022785  1.000000  0.015401  \n",
      "星座     -0.017627 -0.032054 -0.007500 -0.017937 -0.002467  0.015401  1.000000  \n",
      "\n",
      "[27 rows x 27 columns]\n"
     ]
    },
    {
     "data": {
      "text/plain": "<Figure size 432x288 with 2 Axes>",
      "image/png": "[encoded data removed]"
     },
     "metadata": {
      "needs_background": "light"
     },
     "output_type": "display_data"
    }
   ],
   "source": [
    "correlations=credit_card_data.corr()\n",
    "print(correlations)\n",
    "\n",
    "%matplotlib inline\n",
    "import seaborn as sns\n",
    "import matplotlib.pyplot as plt\n",
    "plt.rcParams[\"font.family\"]=\"HanziPen SC\"\n",
    "plt.rcParams['font.sans-serif'] = ['HanziPen SC', 'sans-serif']\n",
    "plt.rcParams['font.serif'] = ['HanziPen SC']\n",
    "plt.rcParams['axes.unicode_minus']=False\n",
    "\n",
    "sns.heatmap(correlations)\n",
    "plt.savefig('heatmap.png')\n",
    "plt.show()"
   ],
   "metadata": {
    "collapsed": false,
    "pycharm": {
     "name": "#%%\n"
    }
   }
  },
  {
   "cell_type": "code",
   "execution_count": 26,
   "outputs": [
    {
     "name": "stdout",
     "output_type": "stream",
     "text": [
      "             瑕疵户        逾期        呆账    强制停卡记录        退票      拒往记录\n",
      "瑕疵户     1.000000  0.938601  0.906131  0.971477  0.919011  0.862152\n",
      "逾期      0.938601  1.000000  0.880118  0.951528  0.917134  0.799604\n",
      "呆账      0.906131  0.880118  1.000000  0.880285  0.836368  0.867265\n",
      "强制停卡记录  0.971477  0.951528  0.880285  1.000000  0.932399  0.837070\n",
      "退票      0.919011  0.917134  0.836368  0.932399  1.000000  0.800673\n",
      "拒往记录    0.862152  0.799604  0.867265  0.837070  0.800673  1.000000\n"
     ]
    },
    {
     "data": {
      "text/plain": "<Figure size 432x288 with 2 Axes>",
      "image/png": "[encoded data removed]"
     },
     "metadata": {
      "needs_background": "light"
     },
     "output_type": "display_data"
    }
   ],
   "source": [
    "# 根据特征瑕疵户、逾期、呆账、强制停卡记录、退票、拒往记录，构建历史行为特征\n",
    "previous_behaviour = credit_card_data[['瑕疵户', '逾期', '呆账', '强制停卡记录', '退票', '拒往记录']]\n",
    "\n",
    "previous_behaviour_correlations=previous_behaviour.corr()\n",
    "print(previous_behaviour_correlations)\n",
    "\n",
    "'''sns.pairplot(previous_behaviour_correlations)\n",
    "plt.savefig('previous_behaviour_pairplot.png')\n",
    "plt.show()'''\n",
    "\n",
    "sns.heatmap(previous_behaviour_correlations)\n",
    "plt.savefig('previous_behaviour_heatmap.png')\n",
    "plt.show()"
   ],
   "metadata": {
    "collapsed": false,
    "pycharm": {
     "name": "#%%\n"
    }
   }
  },
  {
   "cell_type": "code",
   "execution_count": 28,
   "outputs": [
    {
     "name": "stdout",
     "output_type": "stream",
     "text": [
      "           借款余额     个人月收入     个人月开销     家庭月收入      月刷卡额\n",
      "借款余额   1.000000  0.029213 -0.016987  0.012863  0.017698\n",
      "个人月收入  0.029213  1.000000  0.013665  0.430502  0.127512\n",
      "个人月开销 -0.016987  0.013665  1.000000  0.014114 -0.015611\n",
      "家庭月收入  0.012863  0.430502  0.014114  1.000000  0.180340\n",
      "月刷卡额   0.017698  0.127512 -0.015611  0.180340  1.000000\n"
     ]
    },
    {
     "data": {
      "text/plain": "<Figure size 432x288 with 2 Axes>",
      "image/png": "[encoded data removed]"
     },
     "metadata": {
      "needs_background": "light"
     },
     "output_type": "display_data"
    }
   ],
   "source": [
    "# 根据特征借款余额、个人月收入、个人月开销、家庭月收入和月刷卡额，构建出经济风险情况特征\n",
    "economic_risk_feature = credit_card_data[['借款余额', '个人月收入', '个人月开销', '家庭月收入', '月刷卡额']]\n",
    "\n",
    "economic_risk_feature_correlations=economic_risk_feature.corr()\n",
    "print(economic_risk_feature_correlations)\n",
    "\n",
    "'''sns.pairplot(economic_risk_feature_correlations)\n",
    "plt.savefig('economic_risk_feature_pairplot.png')\n",
    "plt.show()'''\n",
    "\n",
    "sns.heatmap(economic_risk_feature_correlations)\n",
    "plt.savefig('economic_risk_feature_heatmap.png')\n",
    "plt.show()"
   ],
   "metadata": {
    "collapsed": false,
    "pycharm": {
     "name": "#%%\n"
    }
   }
  },
  {
   "cell_type": "code",
   "execution_count": 30,
   "outputs": [
    {
     "name": "stdout",
     "output_type": "stream",
     "text": [
      "          职业        年龄        住家\n",
      "职业  1.000000  0.010800  0.209242\n",
      "年龄  0.010800  1.000000 -0.047024\n",
      "住家  0.209242 -0.047024  1.000000\n"
     ]
    },
    {
     "data": {
      "text/plain": "<Figure size 432x288 with 2 Axes>",
      "image/png": "[encoded data removed]"
     },
     "metadata": {
      "needs_background": "light"
     },
     "output_type": "display_data"
    }
   ],
   "source": [
    "# 根据特征职业、年龄、住家、构建出收入风险情况特征\n",
    "income_risk_feature = credit_card_data[['职业', '年龄', '住家']]\n",
    "\n",
    "income_risk_feature_correlations=income_risk_feature.corr()\n",
    "print(income_risk_feature_correlations)\n",
    "\n",
    "'''sns.pairplot(income_risk_feature_correlations)\n",
    "plt.savefig('income_risk_feature_pairplot.png')\n",
    "plt.show()'''\n",
    "\n",
    "sns.heatmap(income_risk_feature_correlations)\n",
    "plt.savefig('income_risk_feature_heatmap.png')\n",
    "plt.show()"
   ],
   "metadata": {
    "collapsed": false,
    "pycharm": {
     "name": "#%%\n"
    }
   }
  },
  {
   "cell_type": "code",
   "execution_count": 31,
   "outputs": [],
   "source": [
    "temp_features = pd.concat([previous_behaviour, economic_risk_feature, income_risk_feature], axis=1)\n",
    "\n",
    "# 标准化历史行为、经济风险情况、收入风险情况特征\n",
    "from sklearn.preprocessing import StandardScaler\n",
    "\n",
    "previous_behaviour == StandardScaler().fit_transform(previous_behaviour)\n",
    "economic_risk_feature = StandardScaler().fit_transform(economic_risk_feature)\n",
    "income_risk_feature = StandardScaler().fit_transform(income_risk_feature)\n",
    "\n",
    "features = StandardScaler().fit_transform(temp_features)"
   ],
   "metadata": {
    "collapsed": false,
    "pycharm": {
     "name": "#%%\n"
    }
   }
  },
  {
   "cell_type": "code",
   "execution_count": 32,
   "outputs": [
    {
     "name": "stdout",
     "output_type": "stream",
     "text": [
      "聚类中心：\n",
      " [[ 2.38645856e-01  2.33745485e-01  2.16244525e-01  2.45652727e-01\n",
      "   2.33971699e-01  2.43249269e-01  2.47966132e-01  2.02085225e+00\n",
      "   1.13567962e-02 -1.78978195e+00 -7.36305805e-02  4.31891067e-01\n",
      "  -6.16506975e-02 -9.49959227e-02]\n",
      " [-4.10720266e+00 -3.93950427e+00 -3.72166566e+00 -4.07078729e+00\n",
      "  -3.85887982e+00 -3.54032989e+00 -3.71273931e+00 -7.11515512e-02\n",
      "   2.21114353e-02 -1.60064549e-03 -1.97462170e-02 -1.71579978e-01\n",
      "  -6.24941711e-02 -1.29333140e-01]\n",
      " [ 2.38645856e-01  2.33745485e-01  2.16244525e-01  2.45652727e-01\n",
      "   2.19374004e-01  2.15049517e-01  2.34104210e-01 -8.68238875e-01\n",
      "   7.91112203e-03 -5.82361595e-01  2.94948691e-01  5.09360248e-01\n",
      "   6.88156168e-02  2.10097844e-01]\n",
      " [ 2.38645856e-01  2.33745485e-01  2.16244525e-01  2.45652727e-01\n",
      "   2.33971699e-01  1.54579208e-01  1.83100706e-01 -6.04497928e-01\n",
      "  -3.93587960e-02 -3.92790816e-01 -8.24078148e-01 -1.34946191e+00\n",
      "   2.96505914e-02 -4.39688359e-01]\n",
      " [ 2.38645856e-01  2.21140754e-01  2.16244525e-01  2.21912213e-01\n",
      "   2.21377891e-01  2.18540481e-01  2.11528439e-01  7.33499650e-01\n",
      "   9.09080766e-03  1.04952819e+00  2.06603215e-01  2.35901725e-01\n",
      "  -5.57902000e-02  9.21175916e-02]]\n",
      "每类的用户数目：\n",
      " 4    22909\n",
      "2    20073\n",
      "3    12473\n",
      "0     4162\n",
      "1     3464\n",
      "dtype: int64\n"
     ]
    }
   ],
   "source": [
    "# 构建 K-Means 聚类模型，聚类数为 5\n",
    "from sklearn.cluster import KMeans\n",
    "\n",
    "magic_model = KMeans(n_clusters=5)\n",
    "\n",
    "# 训练 K-Means 聚类模型，并求出聚类中心，每类的用户数目\n",
    "trained_model = magic_model.fit(features)\n",
    "cluster_labels = magic_model.fit_predict(features)  # the array of cluster labels each data point belongs to\n",
    "\n",
    "features_belongs2_label_0 = features[cluster_labels == 0]\n",
    "features_belongs2_label_1 = features[cluster_labels == 1]\n",
    "features_belongs2_label_2 = features[cluster_labels == 2]\n",
    "features_belongs2_label_3 = features[cluster_labels == 3]\n",
    "features_belongs2_label_4 = features[cluster_labels == 4]\n",
    "\n",
    "centre = trained_model.cluster_centers_\n",
    "print('聚类中心：\\n', centre)    #5个中心，14维数\n",
    "user_counts = pd.Series(trained_model.labels_).value_counts()\n",
    "print('每类的用户数目：\\n', user_counts)"
   ],
   "metadata": {
    "collapsed": false,
    "pycharm": {
     "name": "#%%\n"
    }
   }
  },
  {
   "cell_type": "code",
   "execution_count": 33,
   "outputs": [
    {
     "data": {
      "text/plain": "<Figure size 720x432 with 1 Axes>",
      "image/png": "[encoded data removed]"
     },
     "metadata": {
      "needs_background": "light"
     },
     "output_type": "display_data"
    }
   ],
   "source": [
    "from sklearn.metrics import silhouette_score\n",
    "\n",
    "silhouettteScore = []\n",
    "\n",
    "for i in range(2,11):\n",
    "    kmeans = KMeans(n_clusters = i,random_state=123).fit(features)\n",
    "    score = silhouette_score(features,kmeans.labels_)\n",
    "    silhouettteScore.append(score)\n",
    "\n",
    "plt.figure(figsize=(10,6))\n",
    "plt.plot(range(2,11),silhouettteScore,linewidth=1.5, linestyle=\"-\")\n",
    "plt.show()"
   ],
   "metadata": {
    "collapsed": false,
    "pycharm": {
     "name": "#%%\n"
    }
   }
  },
  {
   "cell_type": "code",
   "execution_count": 51,
   "outputs": [
    {
     "name": "stdout",
     "output_type": "stream",
     "text": [
      "PCA降维后：\n",
      "               0         1\n",
      "0     -0.606475 -2.510055\n",
      "1     -0.631581 -1.842047\n",
      "2     -0.611127 -1.149189\n",
      "3     -0.618473 -1.840741\n",
      "4     -0.605927 -1.492478\n",
      "...         ...       ...\n",
      "60573 -0.668425  0.942826\n",
      "60574 -0.676135  1.625942\n",
      "60575 -0.668974  1.833363\n",
      "60576 -0.669608  0.989036\n",
      "60577 -0.606475 -2.510055\n",
      "\n",
      "[60578 rows x 2 columns]\n"
     ]
    }
   ],
   "source": [
    "from sklearn.decomposition import PCA\n",
    "\n",
    "features_PCA_rules = PCA(n_components=2).fit(features)\n",
    "features_PCA = features_PCA_rules.transform(features)\n",
    "features_PCA = pd.DataFrame(features_PCA)\n",
    "print('PCA降维后：\\n', features_PCA)"
   ],
   "metadata": {
    "collapsed": false,
    "pycharm": {
     "name": "#%%\n"
    }
   }
  },
  {
   "cell_type": "code",
   "execution_count": 54,
   "outputs": [
    {
     "name": "stdout",
     "output_type": "stream",
     "text": [
      "[0 1 2 3 4]\n",
      "              0         1\n",
      "18    -0.598080 -0.786677\n",
      "23    -0.632187 -0.877352\n",
      "39    -0.626562 -0.326537\n",
      "51    -0.635702 -0.566023\n",
      "53    -0.632099 -0.849906\n",
      "...         ...       ...\n",
      "60548  0.913873  0.435969\n",
      "60555 -0.663815  0.557842\n",
      "60558 -0.631400  0.408688\n",
      "60560 -0.650916  0.608923\n",
      "60572 -0.656363  0.471144\n",
      "\n",
      "[24016 rows x 2 columns]\n",
      "<class 'pandas.core.frame.DataFrame'>\n",
      "聚类中心：\n",
      " [[-0.62097611 -0.10911465]\n",
      " [10.78575881  0.22821837]\n",
      " [-0.64649916  1.38132752]\n",
      " [-0.54334432 -1.7313191 ]\n",
      " [ 6.66056257 -0.80091117]]\n",
      "每类的用户数目：\n",
      " 0    24016\n",
      "2    19184\n",
      "3    13850\n",
      "1     2750\n",
      "4      778\n",
      "dtype: int64\n"
     ]
    }
   ],
   "source": [
    "# 构建 K-Means 聚类模型，聚类数为 5\n",
    "from sklearn.cluster import KMeans\n",
    "\n",
    "magic_model = KMeans(n_clusters=5)\n",
    "\n",
    "# 训练 K-Means 聚类模型，并求出聚类中心，每类的用户数目\n",
    "trained_model = magic_model.fit(features_PCA)\n",
    "cluster_labels = magic_model.fit_predict(features_PCA)  # the array of cluster labels each data point belongs to\n",
    "\n",
    "print(np.unique(cluster_labels))\n",
    "\n",
    "features_belongs2_label_0 = features_PCA[cluster_labels == 0]\n",
    "print(features_belongs2_label_0)\n",
    "print(type(features_belongs2_label_0))\n",
    "features_belongs2_label_1 = features_PCA[cluster_labels == 1]\n",
    "features_belongs2_label_2 = features_PCA[cluster_labels == 2]\n",
    "features_belongs2_label_3 = features_PCA[cluster_labels == 3]\n",
    "features_belongs2_label_4 = features_PCA[cluster_labels == 4]\n",
    "\n",
    "centre = trained_model.cluster_centers_\n",
    "print('聚类中心：\\n', centre)    #5个中心，14维数\n",
    "user_counts = pd.Series(trained_model.labels_).value_counts()\n",
    "print('每类的用户数目：\\n', user_counts)"
   ],
   "metadata": {
    "collapsed": false,
    "pycharm": {
     "name": "#%%\n"
    }
   }
  },
  {
   "cell_type": "code",
   "execution_count": 62,
   "outputs": [
    {
     "data": {
      "text/plain": "<matplotlib.collections.PathCollection at 0x11f6bc370>"
     },
     "execution_count": 62,
     "metadata": {},
     "output_type": "execute_result"
    },
    {
     "data": {
      "text/plain": "<Figure size 432x288 with 1 Axes>",
      "image/png": "[encoded data removed]"
     },
     "metadata": {
      "needs_background": "light"
     },
     "output_type": "display_data"
    }
   ],
   "source": [
    "import matplotlib.pyplot as plt\n",
    "\n",
    "plt.scatter(features_belongs2_label_0[0],features_belongs2_label_0[1],s=10)\n",
    "plt.scatter(features_belongs2_label_1[0],features_belongs2_label_1[1],s=10)\n",
    "plt.scatter(features_belongs2_label_2[0],features_belongs2_label_2[1],s=10)\n",
    "plt.scatter(features_belongs2_label_3[0],features_belongs2_label_3[1],s=10)\n",
    "plt.scatter(features_belongs2_label_4[0],features_belongs2_label_4[1],s=10)"
   ],
   "metadata": {
    "collapsed": false,
    "pycharm": {
     "name": "#%%\n"
    }
   }
  }
 ],
 "metadata": {
  "kernelspec": {
   "display_name": "Python 3",
   "language": "python",
   "name": "python3"
  },
  "language_info": {
   "codemirror_mode": {
    "name": "ipython",
    "version": 2
   },
   "file_extension": ".py",
   "mimetype": "text/x-python",
   "name": "python",
   "nbconvert_exporter": "python",
   "pygments_lexer": "ipython2",
   "version": "2.7.6"
  }
 },
 "nbformat": 4,
 "nbformat_minor": 0
}