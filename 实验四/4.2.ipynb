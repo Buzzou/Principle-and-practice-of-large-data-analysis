{
 "cells": [
  {
   "cell_type": "code",
   "id": "bbd3e71531a2d97a",
   "metadata": {
    "ExecuteTime": {
     "end_time": "2025-03-16T09:08:34.022406Z",
     "start_time": "2025-03-16T09:08:33.036545Z"
    }
   },
   "source": "import pandas as pd",
   "outputs": [],
   "execution_count": 1
  },
  {
   "metadata": {
    "ExecuteTime": {
     "end_time": "2025-03-16T09:10:18.718628Z",
     "start_time": "2025-03-16T09:10:17.970072Z"
    }
   },
   "cell_type": "code",
   "source": [
    "LogInfo = pd.read_csv('Training_LogInfo.csv', encoding='gbk')\n",
    "Userupdate = pd.read_csv('Training_Userupdate.csv', encoding='gbk')\n",
    "\n",
    "# 转换时间字符串\n",
    "LogInfo['Listinginfo1'] = pd.to_datetime(LogInfo['Listinginfo1'])  # 小写i\n",
    "LogInfo['LogInfo3'] = pd.to_datetime(LogInfo['LogInfo3'])\n",
    "LogInfo.head()"
   ],
   "id": "ebce6152050cdb23",
   "outputs": [
    {
     "data": {
      "text/plain": [
       "     Idx Listinginfo1  LogInfo1  LogInfo2   LogInfo3\n",
       "0  10001   2014-03-05       107         6 2014-02-20\n",
       "1  10001   2014-03-05       107         6 2014-02-23\n",
       "2  10001   2014-03-05       107         6 2014-02-24\n",
       "3  10001   2014-03-05       107         6 2014-02-25\n",
       "4  10001   2014-03-05       107         6 2014-02-27"
      ],
      "text/html": [
       "<div>\n",
       "<style scoped>\n",
       "    .dataframe tbody tr th:only-of-type {\n",
       "        vertical-align: middle;\n",
       "    }\n",
       "\n",
       "    .dataframe tbody tr th {\n",
       "        vertical-align: top;\n",
       "    }\n",
       "\n",
       "    .dataframe thead th {\n",
       "        text-align: right;\n",
       "    }\n",
       "</style>\n",
       "<table border=\"1\" class=\"dataframe\">\n",
       "  <thead>\n",
       "    <tr style=\"text-align: right;\">\n",
       "      <th></th>\n",
       "      <th>Idx</th>\n",
       "      <th>Listinginfo1</th>\n",
       "      <th>LogInfo1</th>\n",
       "      <th>LogInfo2</th>\n",
       "      <th>LogInfo3</th>\n",
       "    </tr>\n",
       "  </thead>\n",
       "  <tbody>\n",
       "    <tr>\n",
       "      <th>0</th>\n",
       "      <td>10001</td>\n",
       "      <td>2014-03-05</td>\n",
       "      <td>107</td>\n",
       "      <td>6</td>\n",
       "      <td>2014-02-20</td>\n",
       "    </tr>\n",
       "    <tr>\n",
       "      <th>1</th>\n",
       "      <td>10001</td>\n",
       "      <td>2014-03-05</td>\n",
       "      <td>107</td>\n",
       "      <td>6</td>\n",
       "      <td>2014-02-23</td>\n",
       "    </tr>\n",
       "    <tr>\n",
       "      <th>2</th>\n",
       "      <td>10001</td>\n",
       "      <td>2014-03-05</td>\n",
       "      <td>107</td>\n",
       "      <td>6</td>\n",
       "      <td>2014-02-24</td>\n",
       "    </tr>\n",
       "    <tr>\n",
       "      <th>3</th>\n",
       "      <td>10001</td>\n",
       "      <td>2014-03-05</td>\n",
       "      <td>107</td>\n",
       "      <td>6</td>\n",
       "      <td>2014-02-25</td>\n",
       "    </tr>\n",
       "    <tr>\n",
       "      <th>4</th>\n",
       "      <td>10001</td>\n",
       "      <td>2014-03-05</td>\n",
       "      <td>107</td>\n",
       "      <td>6</td>\n",
       "      <td>2014-02-27</td>\n",
       "    </tr>\n",
       "  </tbody>\n",
       "</table>\n",
       "</div>"
      ]
     },
     "execution_count": 2,
     "metadata": {},
     "output_type": "execute_result"
    }
   ],
   "execution_count": 2
  },
  {
   "metadata": {
    "ExecuteTime": {
     "end_time": "2025-03-16T09:10:21.558170Z",
     "start_time": "2025-03-16T09:10:21.465881Z"
    }
   },
   "cell_type": "code",
   "source": [
    "Userupdate['ListingInfo1'] = pd.to_datetime(Userupdate['ListingInfo1'])\n",
    "Userupdate['UserupdateInfo2'] = pd.to_datetime(Userupdate['UserupdateInfo2'])\n",
    "Userupdate.head()"
   ],
   "id": "c03ef351d205e346",
   "outputs": [
    {
     "data": {
      "text/plain": [
       "     Idx ListingInfo1    UserupdateInfo1 UserupdateInfo2\n",
       "0  10001   2014-03-05       _EducationId      2014-02-20\n",
       "1  10001   2014-03-05         _HasBuyCar      2014-02-20\n",
       "2  10001   2014-03-05    _LastUpdateDate      2014-02-20\n",
       "3  10001   2014-03-05  _MarriageStatusId      2014-02-20\n",
       "4  10001   2014-03-05       _MobilePhone      2014-02-20"
      ],
      "text/html": [
       "<div>\n",
       "<style scoped>\n",
       "    .dataframe tbody tr th:only-of-type {\n",
       "        vertical-align: middle;\n",
       "    }\n",
       "\n",
       "    .dataframe tbody tr th {\n",
       "        vertical-align: top;\n",
       "    }\n",
       "\n",
       "    .dataframe thead th {\n",
       "        text-align: right;\n",
       "    }\n",
       "</style>\n",
       "<table border=\"1\" class=\"dataframe\">\n",
       "  <thead>\n",
       "    <tr style=\"text-align: right;\">\n",
       "      <th></th>\n",
       "      <th>Idx</th>\n",
       "      <th>ListingInfo1</th>\n",
       "      <th>UserupdateInfo1</th>\n",
       "      <th>UserupdateInfo2</th>\n",
       "    </tr>\n",
       "  </thead>\n",
       "  <tbody>\n",
       "    <tr>\n",
       "      <th>0</th>\n",
       "      <td>10001</td>\n",
       "      <td>2014-03-05</td>\n",
       "      <td>_EducationId</td>\n",
       "      <td>2014-02-20</td>\n",
       "    </tr>\n",
       "    <tr>\n",
       "      <th>1</th>\n",
       "      <td>10001</td>\n",
       "      <td>2014-03-05</td>\n",
       "      <td>_HasBuyCar</td>\n",
       "      <td>2014-02-20</td>\n",
       "    </tr>\n",
       "    <tr>\n",
       "      <th>2</th>\n",
       "      <td>10001</td>\n",
       "      <td>2014-03-05</td>\n",
       "      <td>_LastUpdateDate</td>\n",
       "      <td>2014-02-20</td>\n",
       "    </tr>\n",
       "    <tr>\n",
       "      <th>3</th>\n",
       "      <td>10001</td>\n",
       "      <td>2014-03-05</td>\n",
       "      <td>_MarriageStatusId</td>\n",
       "      <td>2014-02-20</td>\n",
       "    </tr>\n",
       "    <tr>\n",
       "      <th>4</th>\n",
       "      <td>10001</td>\n",
       "      <td>2014-03-05</td>\n",
       "      <td>_MobilePhone</td>\n",
       "      <td>2014-02-20</td>\n",
       "    </tr>\n",
       "  </tbody>\n",
       "</table>\n",
       "</div>"
      ]
     },
     "execution_count": 3,
     "metadata": {},
     "output_type": "execute_result"
    }
   ],
   "execution_count": 3
  },
  {
   "metadata": {
    "ExecuteTime": {
     "end_time": "2025-03-16T09:14:21.563309Z",
     "start_time": "2025-03-16T09:14:21.559448Z"
    }
   },
   "cell_type": "code",
   "source": [
    "# 提取用户信息更新表和登录信息表中的时间信息\n",
    "# 定义一个提取用户信息的函数\n",
    "def getTime(file, date):\n",
    "    year = [i.year for i in file[date]]\n",
    "    month = [i.month for i in file[date]]\n",
    "    week = [i.week for i in file[date]]\n",
    "    return year, month, week"
   ],
   "id": "cb6557921720c24",
   "outputs": [],
   "execution_count": 4
  },
  {
   "metadata": {
    "ExecuteTime": {
     "end_time": "2025-03-16T09:14:29.487144Z",
     "start_time": "2025-03-16T09:14:25.185652Z"
    }
   },
   "cell_type": "code",
   "source": [
    "extractedLogInfo1 = getTime(LogInfo, 'Listinginfo1')\n",
    "print('表1时间信息1：\\n', extractedLogInfo1[0][0:5], extractedLogInfo1[1][0:5], extractedLogInfo1[2][0:5])\n",
    "extractedLogInfo2 = getTime(LogInfo, 'LogInfo3')\n",
    "print('表1时间信息2：\\n', extractedLogInfo2[0][0:5], extractedLogInfo2[1][0:5], extractedLogInfo2[2][0:5])"
   ],
   "id": "a61b42652edafc03",
   "outputs": [
    {
     "name": "stdout",
     "output_type": "stream",
     "text": [
      "表1时间信息1：\n",
      " [2014, 2014, 2014, 2014, 2014] [3, 3, 3, 3, 3] [10, 10, 10, 10, 10]\n",
      "表1时间信息2：\n",
      " [2014, 2014, 2014, 2014, 2014] [2, 2, 2, 2, 2] [8, 8, 9, 9, 9]\n"
     ]
    }
   ],
   "execution_count": 5
  },
  {
   "metadata": {
    "ExecuteTime": {
     "end_time": "2025-03-16T09:14:34.548843Z",
     "start_time": "2025-03-16T09:14:31.464958Z"
    }
   },
   "cell_type": "code",
   "source": [
    "extractedUserupdate1 = getTime(Userupdate, 'ListingInfo1')\n",
    "print('表2时间信息1：\\n', extractedUserupdate1[0][0:5], extractedUserupdate1[1][0:5], extractedUserupdate1[2][0:5])\n",
    "extractedUserupdate2 = getTime(Userupdate, 'UserupdateInfo2')\n",
    "print('表2时间信息2：\\n', extractedUserupdate2[0][0:5], extractedUserupdate2[1][0:5], extractedUserupdate2[2][0:5])"
   ],
   "id": "9831b22719612df3",
   "outputs": [
    {
     "name": "stdout",
     "output_type": "stream",
     "text": [
      "表2时间信息1：\n",
      " [2014, 2014, 2014, 2014, 2014] [3, 3, 3, 3, 3] [10, 10, 10, 10, 10]\n",
      "表2时间信息2：\n",
      " [2014, 2014, 2014, 2014, 2014] [2, 2, 2, 2, 2] [8, 8, 8, 8, 8]\n"
     ]
    }
   ],
   "execution_count": 6
  },
  {
   "metadata": {
    "ExecuteTime": {
     "end_time": "2025-03-16T09:19:09.690975Z",
     "start_time": "2025-03-16T09:19:09.655063Z"
    }
   },
   "cell_type": "code",
   "source": [
    "# 计算用户信息更新表和登录信息表中两时间的差\n",
    "deltaLogInfo_day: pd.Timedelta = LogInfo['Listinginfo1'] - LogInfo['LogInfo3']\n",
    "print(type(deltaLogInfo_day))\n",
    "deltaLogInfo_hours = deltaLogInfo_day.dt.total_seconds() / 3600.0\n",
    "deltaLogInfo_minutes = deltaLogInfo_day.dt.total_seconds() / 60.0\n",
    "print('表1两列时间日之差：\\n', deltaLogInfo_day.head())\n",
    "print('表1两列时间小时之差：\\n', deltaLogInfo_hours.head)\n",
    "print('表1两列时间分钟之差：\\n', deltaLogInfo_minutes.head())\n",
    "deltaUserupdate_day = Userupdate['ListingInfo1'] - Userupdate['UserupdateInfo2']\n",
    "deltaUserupdate_hours = deltaUserupdate_day.dt.total_seconds() / 3600.0\n",
    "deltaUserupdate_minutes = deltaUserupdate_day.dt.total_seconds() / 60.0\n",
    "print('表2两列时间日之差：\\n', deltaUserupdate_day.head())\n",
    "print('表2两列时间小时之差：\\n', deltaLogInfo_hours.head)\n",
    "print('表2两列时间分钟之差：\\n', deltaLogInfo_minutes.head())\n"
   ],
   "id": "d36a8c9b614e5748",
   "outputs": [
    {
     "name": "stdout",
     "output_type": "stream",
     "text": [
      "<class 'pandas.core.series.Series'>\n",
      "表1两列时间日之差：\n",
      " 0   13 days\n",
      "1   10 days\n",
      "2    9 days\n",
      "3    8 days\n",
      "4    6 days\n",
      "dtype: timedelta64[ns]\n",
      "表1两列时间小时之差：\n",
      " <bound method NDFrame.head of 0         312.0\n",
      "1         240.0\n",
      "2         216.0\n",
      "3         192.0\n",
      "4         144.0\n",
      "          ...  \n",
      "580546    312.0\n",
      "580547    312.0\n",
      "580548    312.0\n",
      "580549      0.0\n",
      "580550      0.0\n",
      "Length: 580551, dtype: float64>\n",
      "表1两列时间分钟之差：\n",
      " 0    18720.0\n",
      "1    14400.0\n",
      "2    12960.0\n",
      "3    11520.0\n",
      "4     8640.0\n",
      "dtype: float64\n",
      "表2两列时间日之差：\n",
      " 0   13 days\n",
      "1   13 days\n",
      "2   13 days\n",
      "3   13 days\n",
      "4   13 days\n",
      "dtype: timedelta64[ns]\n",
      "表2两列时间小时之差：\n",
      " <bound method NDFrame.head of 0         312.0\n",
      "1         240.0\n",
      "2         216.0\n",
      "3         192.0\n",
      "4         144.0\n",
      "          ...  \n",
      "580546    312.0\n",
      "580547    312.0\n",
      "580548    312.0\n",
      "580549      0.0\n",
      "580550      0.0\n",
      "Length: 580551, dtype: float64>\n",
      "表2两列时间分钟之差：\n",
      " 0    18720.0\n",
      "1    14400.0\n",
      "2    12960.0\n",
      "3    11520.0\n",
      "4     8640.0\n",
      "dtype: float64\n"
     ]
    }
   ],
   "execution_count": 10
  }
 ],
 "metadata": {
  "kernelspec": {
   "display_name": "Python 3",
   "language": "python",
   "name": "python3"
  },
  "language_info": {
   "codemirror_mode": {
    "name": "ipython",
    "version": 2
   },
   "file_extension": ".py",
   "mimetype": "text/x-python",
   "name": "python",
   "nbconvert_exporter": "python",
   "pygments_lexer": "ipython2",
   "version": "2.7.6"
  }
 },
 "nbformat": 4,
 "nbformat_minor": 5
}
