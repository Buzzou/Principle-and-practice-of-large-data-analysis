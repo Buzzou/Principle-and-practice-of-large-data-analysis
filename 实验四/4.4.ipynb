{
 "cells": [
  {
   "cell_type": "code",
   "execution_count": null,
   "metadata": {},
   "outputs": [],
   "source": [
    "\n",
    "import pandas as pd\n",
    "\n",
    "master = pd.read_csv('./data/Training_Master.csv',encoding='gbk')\n",
    "print('P2P网络贷款主表数据的维度为：',master.ndim)\n",
    "print('P2P网络贷款主表数据的形状大小为：',master.shape)\n",
    "print('P2P网络贷款主表数据的占用内存为：',master.memory_usage())"
   ]
  },
  {
   "cell_type": "code",
   "execution_count": null,
   "metadata": {},
   "outputs": [],
   "source": [
    "# 使用describe方法进行描述性统计\n",
    "print('P2P网络贷款主表数据的描述性统计为：\\n',master.describe())"
   ]
  },
  {
   "cell_type": "code",
   "execution_count": null,
   "metadata": {},
   "outputs": [],
   "source": [
    "# 剔除值相同或全为空的列\n",
    "# 定义一个函数去除全为空值的列和标准差为0的列\n",
    "def dropNullStd(data):\n",
    "    beforelen = data.shape[1]\n",
    "    colisNull = data.describe().loc['count'] == 0\n",
    "    for i in range(len(colisNull)):\n",
    "        if colisNull[i]:\n",
    "            data.drop(colisNull.index[i],axis = 1,inplace =True)\n",
    "\n",
    "    stdisZero = data.describe().loc['std'] == 0\n",
    "    for i in range(len(stdisZero)):\n",
    "        if stdisZero[i]:\n",
    "            data.drop(stdisZero.index[i],axis = 1,inplace =True)\n",
    "    afterlen = data.shape[1]\n",
    "    print('去除的列的数目为：',beforelen-afterlen)\n",
    "    print('去除后数据的形状为：',data.shape)"
   ]
  },
  {
   "cell_type": "code",
   "execution_count": null,
   "metadata": {},
   "outputs": [],
   "source": [
    " dropNullStd(master)"
   ]
  },
  {
   "cell_type": "code",
   "execution_count": null,
   "metadata": {},
   "outputs": [],
   "source": [
    "LogInfo = pd.read_csv('./data/Training_LogInfo.csv',encoding='gbk')\n",
    "Userupdate = pd.read_csv('./data/Training_Userupdate.csv',encoding='gbk')"
   ]
  },
  {
   "cell_type": "code",
   "execution_count": null,
   "metadata": {},
   "outputs": [],
   "source": [
    "# 转换时间字符串\n",
    "LogInfo['Listinginfo1']=pd.to_datetime(LogInfo['Listinginfo1'])\n",
    "LogInfo['LogInfo3']=pd.to_datetime(LogInfo['LogInfo3'])\n",
    "print('转换登录信息表的时间字符串前5行：\\n',LogInfo.head())"
   ]
  },
  {
   "cell_type": "code",
   "execution_count": null,
   "metadata": {},
   "outputs": [],
   "source": [
    "Userupdate['ListingInfo1']=pd.to_datetime(Userupdate['ListingInfo1'])\n",
    "Userupdate['UserupdateInfo2']=pd.to_datetime(Userupdate['UserupdateInfo2'])\n",
    "print('转换用户信息更新表的时间字符串前5行：\\n',Userupdate.head())"
   ]
  },
  {
   "cell_type": "code",
   "execution_count": null,
   "metadata": {},
   "outputs": [],
   "source": [
    "# 提取用户信息更新表和登录信息表中的时间信息\n",
    "# 定义一个提取用户信息的函数\n",
    "def extract(file,time):\n",
    "    global year\n",
    "    year = [i.year for i in file[time]]\n",
    "    month = [i.month for i in file[time]]\n",
    "    week = [i.week for i in file[time]]\n",
    "    return year,month,week"
   ]
  },
  {
   "cell_type": "code",
   "execution_count": null,
   "metadata": {},
   "outputs": [],
   "source": [
    "ETLog1 = extract(LogInfo,'Listinginfo1')\n",
    "print('每行的前五个数据：\\n',ETLog1[0][0:5],ETLog1[1][0:5],ETLog1[2][0:5])\n",
    "ETLog2 = extract(LogInfo,'LogInfo3')\n",
    "print('每行的前五个数据：\\n',ETLog2[0][0:5],ETLog2[1][0:5],ETLog2[2][0:5])\n",
    "ETUser1 = extract(Userupdate,'ListingInfo1')\n",
    "print('每行的前五个数据：\\n',ETUser1[0][0:5],ETUser1[1][0:5],ETUser1[2][0:5])\n",
    "ETUser2 = extract(Userupdate,'UserupdateInfo2')\n",
    "print('每行的前五个数据：\\n',ETUser2[0][0:5],ETUser2[1][0:5],ETUser2[2][0:5])"
   ]
  },
  {
   "cell_type": "code",
   "execution_count": null,
   "metadata": {},
   "outputs": [],
   "source": [
    "# 计算用户信息更新表和登录信息表中两时间的差\n",
    "# 分别计算更新表和登录信息表中两时间的差\n",
    "TDLog = LogInfo['Listinginfo1'] - LogInfo['LogInfo3']\n",
    "print('计算登录信息表中两时间之差：\\n',TDLog.head())\n",
    "TDUser = Userupdate['ListingInfo1'] - Userupdate['UserupdateInfo2']\n",
    "print('计算更新表中两时间之差：\\n',TDUser.head())"
   ]
  },
  {
   "cell_type": "code",
   "execution_count": null,
   "metadata": {},
   "outputs": [],
   "source": [
    "# 对用户信息更新表和登录信息表进行分组\n",
    "import os\n",
    "import pandas as pd\n",
    "import numpy as np\n",
    "LogInfo = pd.read_csv('./data/Training_LogInfo.csv',encoding='gbk')\n",
    "Userupdate = pd.read_csv('./data/Training_Userupdate.csv',encoding='gbk')\n",
    "# 使用groupby方法对用户信息更新表和登录信息表进行分组\n",
    "LogGroup = LogInfo[['Idx','LogInfo3']].groupby(by = 'Idx')\n",
    "UserGroup = Userupdate[['Idx','UserupdateInfo2']].groupby(by = 'Idx')"
   ]
  },
  {
   "cell_type": "code",
   "execution_count": null,
   "metadata": {},
   "outputs": [],
   "source": [
    "# 使用agg方法求取分组后的最早，最晚，更新登录时间\n",
    "print('分组后的最早登录时间为：\\n',LogGroup.agg(np.min))\n",
    "print('分组后的最晚登录时间为：\\n',LogGroup.agg(np.max))\n",
    "print('分组后的最早更新时间为：\\n',UserGroup.agg(np.min))\n",
    "print('分组后的最晚更新时间为：\\n',UserGroup.agg(np.max))"
   ]
  },
  {
   "cell_type": "code",
   "execution_count": null,
   "metadata": {},
   "outputs": [],
   "source": [
    "# 求取分组后的数据的信息更新次数与登录次数\n",
    "# 使用size方法求取分组后的数据的信息更新次数与登录次数\n",
    "print('分组后的数据的信息更新次数为：\\n',LogGroup.size())\n",
    "print('分组后的数据的登录次数为：\\n',UserGroup.size())"
   ]
  },
  {
   "cell_type": "code",
   "execution_count": 27,
   "metadata": {},
   "outputs": [],
   "source": [
    "# 使用povit_table函数进行长宽表转换\n",
    "import pandas as pd\n",
    "# master = pd.read_csv('./data/Training_Master.csv',encoding='gbk')\n",
    "LogInfo = pd.read_csv('./data/Training_LogInfo.csv',encoding='gbk')\n",
    "Userupdate = pd.read_csv('./data/Training_Userupdate.csv',encoding='gbk')"
   ]
  },
  {
   "cell_type": "code",
   "execution_count": 31,
   "metadata": {},
   "outputs": [
    {
     "name": "stdout",
     "output_type": "stream",
     "text": [
      "用LogInfo1作为分组键创建的登录信息表：\n",
      "          Listinginfo1                                                          \\\n",
      "LogInfo1        -10    -4     0     1      2     3     4     5     6     8      \n",
      "Idx                                                                             \n",
      "3                 NaN   15.0   NaN   4.0    2.0   NaN   5.0   NaN   NaN   NaN   \n",
      "5                 1.0    4.0   NaN   3.0    1.0   1.0   1.0   NaN   NaN   NaN   \n",
      "8                 1.0  109.0   NaN   4.0    2.0   1.0   1.0   NaN   NaN   NaN   \n",
      "12                1.0   35.0   NaN   4.0  144.0   1.0   3.0   NaN   NaN   NaN   \n",
      "16                NaN   10.0   NaN   3.0    1.0   NaN   1.0   NaN   NaN   NaN   \n",
      "\n",
      "          ...  LogInfo3                                                        \n",
      "LogInfo1  ...      302   303   304   305   307   310   1000  2000  3000  3001  \n",
      "Idx       ...                                                                  \n",
      "3         ...       NaN   NaN   NaN   NaN   NaN   NaN   NaN   NaN   NaN   NaN  \n",
      "5         ...       NaN   NaN   NaN   NaN   NaN   NaN   NaN   NaN   NaN   NaN  \n",
      "8         ...       NaN   NaN   NaN   NaN   NaN   NaN   NaN   NaN   NaN   NaN  \n",
      "12        ...       NaN   NaN   NaN   NaN   NaN   NaN   NaN   NaN   NaN   NaN  \n",
      "16        ...       NaN   NaN   NaN   NaN   NaN   NaN   NaN   NaN   NaN   NaN  \n",
      "\n",
      "[5 rows x 105 columns]\n"
     ]
    }
   ],
   "source": [
    "# 用pivot_table函数将长表转换成宽表\n",
    "LogInfo_pivot = pd.pivot_table(LogInfo,index=LogInfo['Idx'],columns=LogInfo['LogInfo1'],aggfunc='count')\n",
    "print('用LogInfo1作为分组键创建的登录信息表：\\n',LogInfo_pivot.head())"
   ]
  },
  {
   "cell_type": "code",
   "execution_count": null,
   "metadata": {},
   "outputs": [],
   "source": [
    "Userupdate_pivot=pd.pivot_table(Userupdate,index='Idx',columns=['UserupdateInfo1'],aggfunc='count')\n",
    "print('用UserupdateInfo1作为分组键创建的用户信息更新表：\\n',Userupdate_pivot.head())"
   ]
  },
  {
   "cell_type": "code",
   "execution_count": null,
   "metadata": {},
   "outputs": [],
   "source": [
    "# 用crosstab方法将长表转换成宽表\n",
    "LogInfo_cross = pd.crosstab(index=LogInfo['Idx'],columns=LogInfo['LogInfo1'])\n",
    "print('用LogInfo1作为分组键创建的登录信息表：\\n',LogInfo_pivot.head())\n",
    "Userupdate_cross=pd.crosstab(index=Userupdate['Idx'],columns=Userupdate['UserupdateInfo1'])\n",
    "print('用UserupdateInfo1作为分组键创建的用户信息更新表：\\n',Userupdate_pivot.head())"
   ]
  },
  {
   "cell_type": "code",
   "execution_count": null,
   "metadata": {},
   "outputs": [],
   "source": []
  }
 ],
 "metadata": {
  "kernelspec": {
   "display_name": "Python 3",
   "language": "python",
   "name": "python3"
  },
  "language_info": {
   "codemirror_mode": {
    "name": "ipython",
    "version": 3
   },
   "file_extension": ".py",
   "mimetype": "text/x-python",
   "name": "python",
   "nbconvert_exporter": "python",
   "pygments_lexer": "ipython3",
   "version": "3.6.5"
  }
 },
 "nbformat": 4,
 "nbformat_minor": 2
}
