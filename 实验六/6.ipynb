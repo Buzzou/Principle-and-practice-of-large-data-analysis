{
 "cells": [
  {
   "cell_type": "code",
   "execution_count": 1,
   "metadata": {},
   "outputs": [
    {
     "name": "stdout",
     "output_type": "stream",
     "text": [
      "wine数据集的长度为： 178\n",
      "wine_q数据集的前五行：\n",
      "    Class  Alcohol  Malic_acid   Ash  Alcalinity_of_ash  Magnesium  \\\n",
      "0      1    14.23        1.71  2.43               15.6        127   \n",
      "1      1    13.20        1.78  2.14               11.2        100   \n",
      "2      1    13.16        2.36  2.67               18.6        101   \n",
      "3      1    14.37        1.95  2.50               16.8        113   \n",
      "4      1    13.24        2.59  2.87               21.0        118   \n",
      "\n",
      "   Total_phenols  Flavanoids  Nonflavanoid_phenols  Proanthocyanins  \\\n",
      "0           2.80        3.06                  0.28             2.29   \n",
      "1           2.65        2.76                  0.26             1.28   \n",
      "2           2.80        3.24                  0.30             2.81   \n",
      "3           3.85        3.49                  0.24             2.18   \n",
      "4           2.80        2.69                  0.39             1.82   \n",
      "\n",
      "   Color_intensity   Hue  OD280/OD315_of_diluted_wines  Proline  \n",
      "0             5.64  1.04                          3.92     1065  \n",
      "1             4.38  1.05                          3.40     1050  \n",
      "2             5.68  1.03                          3.17     1185  \n",
      "3             7.80  0.86                          3.45     1480  \n",
      "4             4.32  1.04                          2.93      735  \n"
     ]
    }
   ],
   "source": [
    "# 读取wine数据集和wine_quality数据集\n",
    "# 读取wine数据集 \n",
    "import pandas as pd\n",
    "wine = pd.read_csv('wine.csv',encoding='gb18030')\n",
    "print('wine数据集的长度为：',len(wine))\n",
    "print('wine_q数据集的前五行：\\n',wine.head())"
   ]
  },
  {
   "cell_type": "code",
   "execution_count": 2,
   "metadata": {},
   "outputs": [
    {
     "name": "stdout",
     "output_type": "stream",
     "text": [
      "wine_quality数据集的大小： (1599, 12)\n",
      "wine_quality数据集的前5行：\n",
      "    fixed acidity  volatile acidity  citric acid  residual sugar  chlorides  \\\n",
      "0            7.4              0.70         0.00             1.9      0.076   \n",
      "1            7.8              0.88         0.00             2.6      0.098   \n",
      "2            7.8              0.76         0.04             2.3      0.092   \n",
      "3           11.2              0.28         0.56             1.9      0.075   \n",
      "4            7.4              0.70         0.00             1.9      0.076   \n",
      "\n",
      "   free sulfur dioxide  total sulfur dioxide  density    pH  sulphates  \\\n",
      "0                 11.0                  34.0   0.9978  3.51       0.56   \n",
      "1                 25.0                  67.0   0.9968  3.20       0.68   \n",
      "2                 15.0                  54.0   0.9970  3.26       0.65   \n",
      "3                 17.0                  60.0   0.9980  3.16       0.58   \n",
      "4                 11.0                  34.0   0.9978  3.51       0.56   \n",
      "\n",
      "   alcohol  quality  \n",
      "0      9.4        5  \n",
      "1      9.8        5  \n",
      "2      9.8        5  \n",
      "3      9.8        6  \n",
      "4      9.4        5  \n"
     ]
    }
   ],
   "source": [
    "# 读取wine_quality数据集 \n",
    "#读取.csv文件  sep=';'列与列之前用分开\n",
    "wine_quality = pd.read_csv('wine_quality.csv',encoding='gb18030',sep=';')\n",
    "print('wine_quality数据集的大小：',wine_quality.shape)\n",
    "print('wine_quality数据集的前5行：\\n',wine_quality.head()) "
   ]
  },
  {
   "cell_type": "code",
   "execution_count": 3,
   "metadata": {},
   "outputs": [
    {
     "name": "stdout",
     "output_type": "stream",
     "text": [
      "wine数据集的标签为：\n",
      " 0      1\n",
      "1      1\n",
      "2      1\n",
      "3      1\n",
      "4      1\n",
      "      ..\n",
      "173    3\n",
      "174    3\n",
      "175    3\n",
      "176    3\n",
      "177    3\n",
      "Name: Class, Length: 178, dtype: int64\n"
     ]
    }
   ],
   "source": [
    "# wine数据集和wine_quality数据集拆分\n",
    "\n",
    "# 拆分wine数据集\n",
    "wine_data = wine.iloc[:,1:14]\n",
    "wine_label = wine.iloc[:,0]\n",
    "print('wine数据集的标签为：\\n',wine_label)"
   ]
  },
  {
   "cell_type": "code",
   "execution_count": 4,
   "metadata": {},
   "outputs": [
    {
     "name": "stdout",
     "output_type": "stream",
     "text": [
      "wine_quality数据集的标签为：\n",
      " 0       5\n",
      "1       5\n",
      "2       5\n",
      "3       6\n",
      "4       5\n",
      "       ..\n",
      "1594    5\n",
      "1595    6\n",
      "1596    6\n",
      "1597    5\n",
      "1598    6\n",
      "Name: quality, Length: 1599, dtype: int64\n"
     ]
    }
   ],
   "source": [
    "# 拆分wine_quality数据集\n",
    "wine_quality_data = wine_quality.iloc[:,0:11]\n",
    "wine_quality_label = wine_quality.iloc[:,11]\n",
    "print('wine_quality数据集的标签为：\\n',wine_quality_label)"
   ]
  },
  {
   "cell_type": "code",
   "execution_count": 5,
   "metadata": {},
   "outputs": [
    {
     "name": "stdout",
     "output_type": "stream",
     "text": [
      "wine原始数据集数据的形状为： (178, 13)\n",
      "wine训练集数据的形状为： (142, 13)\n",
      "wine训练集标签的形状为： (142,)\n",
      "wine测试集数据的形状为： (36, 13)\n",
      "wine测试集标签的形状为： (36,)\n"
     ]
    }
   ],
   "source": [
    "# 对wine数据集和wine_quality数据集划分训练集、测试集\n",
    "\n",
    "# 对wine数据集进行划分\n",
    "from sklearn.model_selection import train_test_split\n",
    "wine_train,wine_test,wine_train_label,wine_test_label = train_test_split\\\n",
    "(wine_data,wine_label,test_size=0.2, random_state=42)\n",
    "wine_train_label.to_csv('wine_train_label.csv',index = False)\n",
    "wine_test_label.to_csv('wine_test_label.csv',index = False)\n",
    "print('wine原始数据集数据的形状为：',wine_data.shape)\n",
    "print('wine训练集数据的形状为：',wine_train.shape)\n",
    "print('wine训练集标签的形状为：',wine_train_label.shape)\n",
    "print('wine测试集数据的形状为：',wine_test.shape)\n",
    "print('wine测试集标签的形状为：',wine_test_label.shape)"
   ]
  },
  {
   "cell_type": "code",
   "execution_count": 6,
   "metadata": {},
   "outputs": [
    {
     "name": "stdout",
     "output_type": "stream",
     "text": [
      "wine_quality原始数据集数据的形状为： (1599, 11)\n",
      "wine_quality训练集数据的形状为： (1279, 11)\n",
      "wine_quality训练集标签的形状为： (1279,)\n",
      "wine_quality测试集数据的形状为： (320, 11)\n",
      "wine_quality测试集标签的形状为： (320,)\n"
     ]
    }
   ],
   "source": [
    "# 对wine_quality数据集进行划分\n",
    "from sklearn.model_selection import train_test_split\n",
    "wine_quality_train,wine_quality_test,wine_quality_train_label,wine_quality_test_label = \\\n",
    "train_test_split(wine_quality_data,wine_quality_label,test_size=0.2, random_state=42)\n",
    "wine_quality_train_label.to_csv('wine_quality_train_label.csv',index = False)\n",
    "wine_quality_test_label.to_csv('wine_quality_test_label.csv',index = False)\n",
    "print('wine_quality原始数据集数据的形状为：',wine_quality_data.shape)\n",
    "print('wine_quality训练集数据的形状为：',wine_quality_train.shape)\n",
    "print('wine_quality训练集标签的形状为：',wine_quality_train_label.shape)\n",
    "print('wine_quality测试集数据的形状为：',wine_quality_test.shape)\n",
    "print('wine_quality测试集标签的形状为：',wine_quality_test_label.shape)"
   ]
  },
  {
   "cell_type": "code",
   "execution_count": 7,
   "metadata": {},
   "outputs": [
    {
     "name": "stdout",
     "output_type": "stream",
     "text": [
      "离差标准化后wine训练集前5行的数据为：\n",
      "     Alcohol  Malic_acid       Ash  Alcalinity_of_ash  Magnesium  \\\n",
      "0  0.871053    0.160896  0.716578           0.742268   0.304348   \n",
      "1  0.394737    0.940937  0.684492           0.742268   0.282609   \n",
      "2  0.352632    0.036660  0.395722           0.407216   0.195652   \n",
      "3  0.644737    0.158859  0.684492           0.613402   0.206522   \n",
      "4  0.536842    0.124236  0.395722           0.252577   0.304348   \n",
      "\n",
      "   Total_phenols  Flavanoids  Nonflavanoid_phenols  Proanthocyanins  \\\n",
      "0       0.627586    0.204641              0.754717         0.721519   \n",
      "1       0.279310    0.054852              0.943396         0.215190   \n",
      "2       0.875862    0.719409              0.207547         0.484177   \n",
      "3       0.558621    0.160338              0.735849         0.591772   \n",
      "4       0.489655    0.485232              0.283019         0.300633   \n",
      "\n",
      "   Color_intensity       Hue  OD280/OD315_of_diluted_wines   Proline  \n",
      "0         1.000000  0.073171                      0.252747  0.301024  \n",
      "1         0.289520  0.276423                      0.153846  0.186761  \n",
      "2         0.245115  0.455285                      0.549451  0.301024  \n",
      "3         0.888988  0.073171                      0.186813  0.269504  \n",
      "4         0.174067  0.569106                      0.520147  0.584712  \n"
     ]
    }
   ],
   "source": [
    "# wine数据集和wine_quality数据集标准化\n",
    "\n",
    "from sklearn.preprocessing import MinMaxScaler\n",
    "\n",
    "# 标准化wine训练集\n",
    "Scaler = MinMaxScaler().fit(wine_train)  # 生成规则\n",
    "# 将规则应用于wine_quality训练集\n",
    "wine_train_Scaler = Scaler.transform(wine_train)\n",
    "# 将wine_train_Scaler转为DataFrame\n",
    "wine_train_Scaler = pd.DataFrame(wine_train_Scaler)\n",
    "# 重命名wine_train_Scaler\n",
    "wine_train_Scaler.columns = wine_train.columns\n",
    "wine_train_Scaler.to_csv('wine_train_Scaler.csv', index = False)\n",
    "print('离差标准化后wine训练集前5行的数据为：\\n',wine_train_Scaler.head())"
   ]
  },
  {
   "cell_type": "code",
   "execution_count": 8,
   "metadata": {},
   "outputs": [
    {
     "name": "stdout",
     "output_type": "stream",
     "text": [
      "离差标准化后wine测试集前5行的数据为：\n",
      "          0         1         2     3         4         5         6         7   \\\n",
      "0  0.771626  0.611399  0.741379  0.02  0.844444  0.692308  0.737609  0.000000   \n",
      "1  0.968858  0.854922  0.637931  0.39  0.733333  0.769231  0.626822  0.282609   \n",
      "2  0.525952  0.536269  0.862069  0.60  0.400000  0.097436  0.000000  0.782609   \n",
      "3  0.802768  0.196891  0.862069  0.75  0.511111  0.846154  0.801749  0.260870   \n",
      "4  0.332180  0.111399  0.189655  0.46  0.000000  0.389744  0.437318  0.217391   \n",
      "\n",
      "         8         9         10        11        12  \n",
      "0  0.600962  0.443156  0.527027  0.817460  0.383764  \n",
      "1  0.403846  0.459397  0.405405  0.805556  0.557196  \n",
      "2  0.163462  0.385151  0.270270  0.400794  0.202952  \n",
      "3  0.947115  0.512761  0.837838  0.559524  0.708487  \n",
      "4  0.302885  0.394432  0.743243  0.865079  0.136531  \n"
     ]
    }
   ],
   "source": [
    "# 标准化wine测试集\n",
    "Scaler = MinMaxScaler().fit(wine_test)  # 生成规则\n",
    "# 将规则应用于wine_quality训练集\n",
    "wine_test_Scaler = Scaler.transform(wine_test)\n",
    "# 将wine_test_Scalerr转为DataFrame\n",
    "wine_test_Scaler = pd.DataFrame(wine_test_Scaler)\n",
    "# 重命wine_test_Scaler\n",
    "wine_train_Scaler.columns = wine_test.columns\n",
    "wine_test_Scaler.to_csv('wine_test_Scaler.csv', index = False)\n",
    "print('离差标准化后wine测试集前5行的数据为：\\n',wine_test_Scaler.head())"
   ]
  },
  {
   "cell_type": "code",
   "execution_count": 9,
   "metadata": {},
   "outputs": [
    {
     "name": "stdout",
     "output_type": "stream",
     "text": [
      "离差标准化后wine_quality训练集前5行的数据为：\n",
      " [[0.36283186 0.39041096 0.31       0.14383562 0.12353923 0.32835821\n",
      "  0.26501767 0.74375918 0.58267717 0.22699387 0.49230769]\n",
      " [0.13274336 0.06164384 0.4        0.03424658 0.09015025 0.58955224\n",
      "  0.56183746 0.08296623 0.4015748  0.13496933 0.53846154]\n",
      " [0.55752212 0.18493151 0.47       0.06164384 0.1769616  0.07462687\n",
      "  0.02826855 0.5969163  0.44094488 0.23312883 0.21538462]\n",
      " [0.37168142 0.3869863  0.26       0.04794521 0.12687813 0.2238806\n",
      "  0.06007067 0.50440529 0.45669291 0.06134969 0.15384615]\n",
      " [0.33628319 0.62671233 0.15       0.34931507 0.10183639 0.14925373\n",
      "  0.16961131 0.65565345 0.49606299 0.07361963 0.23076923]]\n",
      "离差标准化后wine_quality测试集前5行的数据为：\n",
      " [[0.25714286 0.44221106 0.10126582 0.10655738 0.19582245 0.18309859\n",
      "  0.14391144 0.51012146 0.33043478 0.32038835 0.21428571]\n",
      " [0.26666667 0.38190955 0.21518987 0.03278689 0.11227154 0.28169014\n",
      "  0.35055351 0.42105263 0.46086957 0.14563107 0.19642857]\n",
      " [0.54285714 0.55276382 0.27848101 0.12295082 0.17754569 0.22535211\n",
      "  0.099631   0.77732794 0.36521739 0.63106796 0.26785714]\n",
      " [0.33333333 0.34170854 0.39240506 0.08606557 0.10182768 0.43661972\n",
      "  0.18819188 0.58299595 0.40869565 0.2038835  0.25      ]\n",
      " [0.16190476 0.34170854 0.30379747 0.04098361 0.09921671 0.23943662\n",
      "  0.099631   0.32388664 0.46086957 0.26213592 0.39285714]]\n"
     ]
    }
   ],
   "source": [
    "# 标准化wine_quality训练集\n",
    "Scaler = MinMaxScaler().fit(wine_quality_train)  # 生成规则\n",
    "# 将规则应用于wine_quality训练集\n",
    "wine_quality_train_Scaler = Scaler.transform(wine_quality_train)\n",
    "print('离差标准化后wine_quality训练集前5行的数据为：\\n',\n",
    "      wine_quality_train_Scaler[0:5,:])\n",
    "# 标准化wine_quality测试集\n",
    "Scaler = MinMaxScaler().fit(wine_quality_test)  # 生成规则\n",
    "# 将规则应用于wine_quality训练集\n",
    "wine_quality_test_Scaler = Scaler.transform(wine_quality_test)\n",
    "print('离差标准化后wine_quality测试集前5行的数据为：\\n',\n",
    "      wine_quality_test_Scaler[0:5,:])"
   ]
  },
  {
   "cell_type": "code",
   "execution_count": 10,
   "metadata": {},
   "outputs": [
    {
     "name": "stdout",
     "output_type": "stream",
     "text": [
      "PCA降维前wine_quality训练集数据的形状为： (1279, 11)\n",
      "PCA降维后wine_quality训练集数据的形状为： (1279, 8)\n",
      "PCA降维前wine_quality测试集数据的形状为： (320, 11)\n",
      "PCA降维后wine_quality测试集数据的形状为： (320, 8)\n"
     ]
    }
   ],
   "source": [
    "# 对wine数据集和wine_quality数据集降维\n",
    "\n",
    "\n",
    "from sklearn.decomposition import PCA\n",
    "\n",
    "# 对wine_quality训练集进行降维\n",
    "wine_quality_pca_model = PCA(n_components=8).fit(wine_quality_train)  # 生成规则\n",
    "wine_quality_trainPca = wine_quality_pca_model.transform(wine_quality_train)  # 将规则应用于训练集\n",
    "# 将wine_quality_trainPca转为DataFrame\n",
    "wine_quality_trainPca = pd.DataFrame(wine_quality_trainPca)\n",
    "wine_quality_trainPca.to_csv('wine_quality_trainPca.csv', index = False)\n",
    "print('PCA降维前wine_quality训练集数据的形状为：',wine_quality_train.shape)\n",
    "print('PCA降维后wine_quality训练集数据的形状为：',wine_quality_trainPca.shape)\n",
    "\n",
    "# 对wine_quality测试集进行降维\n",
    "wine_quality_testPca = wine_quality_pca_model.transform(wine_quality_test)  # 将规则应用于测试集\n",
    "# 将wine_quality_testPca转为DataFrame\n",
    "wine_quality_testPca = pd.DataFrame(wine_quality_testPca)\n",
    "wine_quality_testPca.to_csv('wine_quality_testPca.csv', index = False)\n",
    "print('PCA降维前wine_quality测试集数据的形状为：',wine_quality_test.shape)\n",
    "print('PCA降维后wine_quality测试集数据的形状为：',wine_quality_testPca.shape)"
   ]
  },
  {
   "metadata": {},
   "cell_type": "markdown",
   "source": "聚类"
  },
  {
   "cell_type": "code",
   "execution_count": 14,
   "metadata": {},
   "outputs": [
    {
     "name": "stdout",
     "output_type": "stream",
     "text": [
      "构建k-means模型为：\n",
      " KMeans(n_clusters=3, random_state=123)\n"
     ]
    }
   ],
   "source": [
    "# 数据预处理及K-Means模型构建\n",
    "\n",
    "import pandas as pd\n",
    "from sklearn.cluster import KMeans  #导入分类器库\n",
    "\n",
    "# 读取训练集数据\n",
    "wine_train_Scaler = pd.read_csv('wine_train_Scaler.csv')\n",
    "wine_train_label = pd.read_csv('wine_train_label.csv',header = None)\n",
    "wine_train_label.columns = ['label']  # 重命名列名\n",
    "# 构建并训练模型\n",
    "kmeans = KMeans(n_clusters = 3,random_state=123).fit(wine_train_Scaler)\n",
    "print('构建k-means模型为：\\n',kmeans)"
   ]
  },
  {
   "cell_type": "code",
   "execution_count": 15,
   "metadata": {},
   "outputs": [
    {
     "name": "stdout",
     "output_type": "stream",
     "text": [
      "wine数据集的类中心为3时，其FMI的评价分值为：0.914722\n"
     ]
    }
   ],
   "source": [
    "# 模型评价\n",
    "# 导入FMI方法的评价函数\n",
    "from sklearn.metrics import fowlkes_mallows_score \n",
    "# kmeans = KMeans(n_clusters= 3).fit(wine_train_Scaler)\n",
    "# score = fowlkes_mallows_score(wine_train_label['label'].tolist(),kmeans.labels_)\n",
    "# print('wine数据集的类中心为3时，其FMI的评价分值为：%f'%score)"
   ]
  },
  {
   "cell_type": "code",
   "execution_count": 16,
   "metadata": {},
   "outputs": [
    {
     "name": "stdout",
     "output_type": "stream",
     "text": [
      "wine数据聚2类FMI评价分值为：0.637271\n",
      "wine数据聚3类FMI评价分值为：0.901579\n",
      "wine数据聚4类FMI评价分值为：0.809973\n",
      "wine数据聚5类FMI评价分值为：0.750412\n",
      "wine数据聚6类FMI评价分值为：0.715938\n",
      "wine数据聚7类FMI评价分值为：0.686684\n",
      "wine数据聚8类FMI评价分值为：0.597405\n",
      "wine数据聚9类FMI评价分值为：0.576837\n",
      "wine数据聚10类FMI评价分值为：0.521399\n"
     ]
    }
   ],
   "source": [
    "for i in range(2,11):\n",
    "    ##构建并训练模型\n",
    "    kmeans = KMeans(n_clusters = i,random_state=123).fit(wine_train_Scaler)\n",
    "    score = fowlkes_mallows_score(wine_train_label['label'],kmeans.labels_)\n",
    "    print('wine数据聚%d类FMI评价分值为：%f' %(i,score))"
   ]
  },
  {
   "cell_type": "code",
   "execution_count": 17,
   "metadata": {},
   "outputs": [
    {
     "data": {
      "text/plain": "<Figure size 720x432 with 1 Axes>",
      "image/png": "[encoded data removed]"
     },
     "metadata": {
      "needs_background": "light"
     },
     "output_type": "display_data"
    }
   ],
   "source": [
    "# 轮廓系数评估KMeans模型\n",
    "from sklearn.metrics import silhouette_score\n",
    "import matplotlib.pyplot as plt\n",
    "silhouettteScore = []\n",
    "for i in range(2,11):\n",
    "    kmeans = KMeans(n_clusters = i,random_state=123).fit(wine_train_Scaler)\n",
    "    score = silhouette_score(wine_train_Scaler,kmeans.labels_)\n",
    "    silhouettteScore.append(score)\n",
    "plt.figure(figsize=(10,6))\n",
    "plt.plot(range(2,11),silhouettteScore,linewidth=1.5, linestyle=\"-\")\n",
    "plt.show()"
   ]
  },
  {
   "cell_type": "code",
   "execution_count": 26,
   "metadata": {},
   "outputs": [
    {
     "name": "stdout",
     "output_type": "stream",
     "text": [
      "wine数据聚2类calinski_harabaz指数为：66.205572\n",
      "wine数据聚3类calinski_harabaz指数为：63.741486\n",
      "wine数据聚4类calinski_harabaz指数为：51.314585\n",
      "wine数据聚5类calinski_harabaz指数为：42.489848\n",
      "wine数据聚6类calinski_harabaz指数为：37.955786\n",
      "wine数据聚7类calinski_harabaz指数为：34.531331\n",
      "wine数据聚8类calinski_harabaz指数为：32.026136\n",
      "wine数据聚9类calinski_harabaz指数为：29.439804\n",
      "wine数据聚10类calinski_harabaz指数为：28.451751\n"
     ]
    }
   ],
   "source": [
    "# 使用Calinski-Harabasz指数评价K-Means聚类\n",
    "from sklearn.metrics import calinski_harabasz_score\n",
    "for i in range(2,11):\n",
    "    ##构建并训练模型\n",
    "    kmeans = KMeans(n_clusters = i,random_state=1).fit(wine_train_Scaler)\n",
    "    score = calinski_harabasz_score(wine_train_Scaler,kmeans.labels_)\n",
    "    print('wine数据聚%d类calinski_harabaz指数为：%f'%(i,score))"
   ]
  },
  {
   "metadata": {},
   "cell_type": "markdown",
   "source": "分类"
  },
  {
   "cell_type": "code",
   "execution_count": 23,
   "metadata": {},
   "outputs": [
    {
     "name": "stdout",
     "output_type": "stream",
     "text": [
      "训练集形状： (142, 13) \n",
      " 训练集标签形状： (142, 1) \n",
      " 测试集形状 (36, 13) \n",
      " 测试集标签形状 (36, 1)\n",
      "建立的SVM模型为：\n",
      " SVC()\n"
     ]
    },
    {
     "name": "stderr",
     "output_type": "stream",
     "text": [
      "/Users/ruohaoli/opt/anaconda3/envs/Data_Analysis/lib/python3.8/site-packages/sklearn/utils/validation.py:63: DataConversionWarning: A column-vector y was passed when a 1d array was expected. Please change the shape of y to (n_samples, ), for example using ravel().\n",
      "  return f(*args, **kwargs)\n"
     ]
    }
   ],
   "source": [
    "# 建立SVM模型\n",
    "import numpy as np\n",
    "import pandas as pd\n",
    "from sklearn.svm import SVC\n",
    "from sklearn.metrics import classification_report   # 预测报告\n",
    "\n",
    "train_Scaler = pd.read_csv('wine_train_Scaler.csv')\n",
    "wine_target_train = pd.read_csv('wine_train_label.csv',header = None)\n",
    "test_Scaler = pd.read_csv('wine_test_Scaler.csv')\n",
    "wine_target_test = pd.read_csv('wine_test_label.csv',header = None)\n",
    "print('训练集形状：',train_Scaler.shape,'\\n',\n",
    "      '训练集标签形状：',wine_target_train.shape,'\\n',\n",
    "      '测试集形状',test_Scaler.shape,'\\n',\n",
    "      '测试集标签形状',wine_target_test.shape)\n",
    "# 构建SVM模型，并预测测试集结果。\n",
    "svm = SVC().fit(train_Scaler,wine_target_train)\n",
    "print('建立的SVM模型为：\\n',svm)"
   ]
  },
  {
   "cell_type": "code",
   "execution_count": 24,
   "metadata": {},
   "outputs": [
    {
     "name": "stdout",
     "output_type": "stream",
     "text": [
      "测试集的预测结果为：\n",
      " [1 1 3 2 2 1 2 3 2 3 1 3 1 2 1 2 2 2 1 2 2 2 2 3 3 3 2 2 2 2 1 2 3 1 1 1]\n"
     ]
    }
   ],
   "source": [
    "# 建立SVM模型\n",
    "wine_target_pred = svm.predict(test_Scaler)\n",
    "print('测试集的预测结果为：\\n',wine_target_pred)"
   ]
  },
  {
   "cell_type": "code",
   "execution_count": 25,
   "metadata": {},
   "outputs": [
    {
     "name": "stdout",
     "output_type": "stream",
     "text": [
      "SVM模型分类报告：\n",
      "               precision    recall  f1-score   support\n",
      "\n",
      "           1       1.00      0.79      0.88        14\n",
      "           2       0.82      1.00      0.90        14\n",
      "           3       1.00      1.00      1.00         8\n",
      "\n",
      "    accuracy                           0.92        36\n",
      "   macro avg       0.94      0.93      0.93        36\n",
      "weighted avg       0.93      0.92      0.92        36\n",
      "\n"
     ]
    }
   ],
   "source": [
    "# 模型评估\n",
    "print('SVM模型分类报告：\\n',classification_report(wine_target_test,wine_target_pred))"
   ]
  },
  {
   "cell_type": "code",
   "execution_count": null,
   "metadata": {},
   "outputs": [],
   "source": []
  }
 ],
 "metadata": {
  "kernelspec": {
   "display_name": "Python 3",
   "language": "python",
   "name": "python3"
  },
  "language_info": {
   "codemirror_mode": {
    "name": "ipython",
    "version": 3
   },
   "file_extension": ".py",
   "mimetype": "text/x-python",
   "name": "python",
   "nbconvert_exporter": "python",
   "pygments_lexer": "ipython3",
   "version": "3.6.5"
  }
 },
 "nbformat": 4,
 "nbformat_minor": 2
}
