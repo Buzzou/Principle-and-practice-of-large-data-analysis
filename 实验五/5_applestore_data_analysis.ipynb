{
 "cells": [
  {
   "cell_type": "markdown",
   "metadata": {},
   "source": [
    "## 实验五 AppleStore应用商城数据分析"
   ]
  },
  {
   "cell_type": "markdown",
   "metadata": {},
   "source": [
    "> **提示**：<br>\n",
    "1、这样的文字将会指导你如何使用 jupyter Notebook 来完成项目。<br>\n",
    "2、你可以通过单击代码区域，然后使用键盘快捷键 Shift+Enter 或 Shift+Return 来运行代码。或者在选择代码后使用执行（run cell）按钮执行代码。Markdown的文字区域也同样可以如此操作。<br>\n",
    "3、在如下有# TODO 提示的地方，将代码补全，实现注释中所要求的功能。<br>\n",
    "4、在有\"** 回答：**\" 提示的地方，回答其上所提出的问题。<br>"
   ]
  },
  {
   "cell_type": "markdown",
   "metadata": {},
   "source": [
    "### 项目介绍：\n",
    "* 随着网络的普及，各行各业都呈现蓬勃向上的发展趋势，而智能手机是改变我们生活的重要方式之一，因为智能手机可以允许安装各种app应用，这些应用极大的便利了我们的生活，因此，对app应用程序进行分析变得极为重要。\n",
    "* 现在我们要对具有代表性的苹果应用商城的app应用进行分析，根据每个app应用的属性进行探索性分析。"
   ]
  },
  {
   "cell_type": "markdown",
   "metadata": {},
   "source": [
    "### 数据集分析\n",
    "项目AppleStore数据集包含应用程序ID、名称、大小、价格、评分、内容评级、主要类型、支持设备类型数量等信息，共包括7207行<br>\n",
    "#### 字段的描述\n",
    "这个项目我们将对以下字段进行相关性分析。<br>\n",
    "size_bytes： 大小（以字节为单位） <br>\n",
    "price： 价格金额 <br>\n",
    "rating_count_tot： 用户评分计数（适用于所有版本） <br>\n",
    "rating_count_ver：用户评分计数（当前版本） <br>\n",
    "user_rating：平均用户评分值（适用于所有版本），取值范围为(0,5]，左开右闭区间 <br>\n",
    "user_rating_ver：平均用户评分值（对于当前版本）取值范围(0,5]，左开右闭区间 <br>\n",
    "prime_genre：主要类型 <br>\n",
    "sup_devices.num：支持设备的数量 <br>\n",
    "lang.num：支持的语言数量 <br>"
   ]
  },
  {
   "cell_type": "markdown",
   "metadata": {},
   "source": [
    "### 分析流程：\n",
    "* 查看数据：导入数据，了解数据集的维度，每列数据的数据类型，以及打印部分数据，进行观察\n",
    "* 数据清洗：删除除不需要的列，删除重复行数据，删除包含有空值的行数据，以及对异常值进行处理\n",
    "* 分析数据：<br>\n",
    "(1)：对用户评分进行分析<br>\n",
    "(2)：对prime_genre数据分析<br>\n",
    "(3)：发散题"
   ]
  },
  {
   "cell_type": "markdown",
   "metadata": {},
   "source": [
    "### 导入必备的库"
   ]
  },
  {
   "cell_type": "code",
   "execution_count": 24,
   "metadata": {},
   "outputs": [],
   "source": [
    "import pandas as pd\n",
    "import numpy as np\n",
    "import matplotlib.pyplot as plt\n",
    "import seaborn as sns"
   ]
  },
  {
   "cell_type": "markdown",
   "metadata": {},
   "source": [
    "### 查看数据"
   ]
  },
  {
   "cell_type": "code",
   "execution_count": 25,
   "metadata": {
    "scrolled": false
   },
   "outputs": [],
   "source": [
    "filepath = 'AppleStore.csv'\n",
    "data_all = pd.read_csv(filepath, index_col=0)"
   ]
  },
  {
   "cell_type": "code",
   "execution_count": 26,
   "metadata": {
    "scrolled": false
   },
   "outputs": [
    {
     "name": "stdout",
     "output_type": "stream",
     "text": [
      "<class 'pandas.core.frame.DataFrame'>\n",
      "Int64Index: 7207 entries, 1 to 11097\n",
      "Data columns (total 16 columns):\n",
      " #   Column            Non-Null Count  Dtype  \n",
      "---  ------            --------------  -----  \n",
      " 0   id                7206 non-null   float64\n",
      " 1   track_name        7207 non-null   object \n",
      " 2   size_bytes        7195 non-null   float64\n",
      " 3   currency          7194 non-null   object \n",
      " 4   price             7204 non-null   float64\n",
      " 5   rating_count_tot  7201 non-null   float64\n",
      " 6   rating_count_ver  7205 non-null   float64\n",
      " 7   user_rating       7205 non-null   float64\n",
      " 8   user_rating_ver   7206 non-null   float64\n",
      " 9   ver               7205 non-null   object \n",
      " 10  cont_rating       7202 non-null   object \n",
      " 11  prime_genre       7194 non-null   object \n",
      " 12  sup_devices.num   7203 non-null   float64\n",
      " 13  ipadSc_urls.num   7207 non-null   int64  \n",
      " 14  lang.num          7206 non-null   float64\n",
      " 15  vpp_lic           7207 non-null   int64  \n",
      "dtypes: float64(9), int64(2), object(5)\n",
      "memory usage: 957.2+ KB\n",
      "数据集中每列的信息：\n",
      " None\n"
     ]
    }
   ],
   "source": [
    "# TODO\n",
    "# 使用info打印数据集每列的信息\n",
    "print('数据集中每列的信息：\\n', data_all.info(verbose=True))"
   ]
  },
  {
   "cell_type": "markdown",
   "metadata": {},
   "source": [
    "问题：(1)数据集的行有多少，列有多少；(2)数据集中的object类型的列数据有几个，(3)每列数据实际长度是否一致"
   ]
  },
  {
   "cell_type": "markdown",
   "metadata": {},
   "source": [
    "回答：（1）7207行，16列\n",
    "(2)5个\n",
    "(3)不一致"
   ]
  },
  {
   "cell_type": "code",
   "execution_count": 27,
   "metadata": {},
   "outputs": [
    {
     "name": "stdout",
     "output_type": "stream",
     "text": [
      "前3行数据集为：             id                                       track_name   size_bytes currency  price  rating_count_tot  rating_count_ver  user_rating  user_rating_ver    ver cont_rating   prime_genre  \\\n",
      "1  281656475.0                                  PAC-MAN Premium  100788224.0      USD    NaN           21292.0              26.0          4.0              4.5  6.3.5          4+         Games   \n",
      "2  281796108.0                        Evernote - stay organized  158578688.0      USD    0.0               NaN              26.0          4.0              3.5  8.2.2          4+  Productivity   \n",
      "3  281940292.0  WeatherBug - Local Weather, Radar, Maps, Alerts  100524032.0      USD    0.0          188583.0            2822.0          3.5              4.5  5.0.0          4+       Weather   \n",
      "\n",
      "   sup_devices.num  ipadSc_urls.num  lang.num  vpp_lic  \n",
      "1             38.0                5      10.0        1  \n",
      "2             37.0                5      23.0        1  \n",
      "3             37.0                5       3.0        1  \n"
     ]
    }
   ],
   "source": [
    "# TODO\n",
    "# 打印数据集的前三行数据\n",
    "print('前3行数据集为：', data_all.head(3))"
   ]
  },
  {
   "cell_type": "markdown",
   "metadata": {},
   "source": [
    "### 数据清洗"
   ]
  },
  {
   "cell_type": "markdown",
   "metadata": {},
   "source": [
    "#### 处理掉不需要分析的列数据"
   ]
  },
  {
   "cell_type": "code",
   "execution_count": 28,
   "metadata": {},
   "outputs": [],
   "source": [
    "def drop_col(data_all, del_col):\n",
    "    \"\"\"\n",
    "    功能：\n",
    "        判断data_all数据集中是否存在del_col中的列，若是存在，则删除该列数据\n",
    "    参数：\n",
    "        data_all是DataFrame结构的数据集，del_col是一个列表，包含了要删除的列，需要inplace原数据集删除\n",
    "\n",
    "    \"\"\"\n",
    "    # TODO\n",
    "    # 判断del_col中的列是否在data_all数据集中，若是存在，则删除\n",
    "    data_all.drop(del_col, axis=1, inplace=True)\n",
    "\n",
    "\n",
    "del_col = ['id', 'track_name', 'cont_rating', 'currency', 'ver', 'ipadSc_urls.num', 'vpp_lic']\n",
    "drop_col(data_all, del_col)"
   ]
  },
  {
   "cell_type": "code",
   "execution_count": 29,
   "metadata": {
    "scrolled": false
   },
   "outputs": [
    {
     "name": "stdout",
     "output_type": "stream",
     "text": [
      "Index(['size_bytes', 'price', 'rating_count_tot', 'rating_count_ver', 'user_rating', 'user_rating_ver', 'prime_genre', 'sup_devices.num', 'lang.num'], dtype='object')\n",
      "2\n"
     ]
    }
   ],
   "source": [
    "# TODO\n",
    "# 打印data_all的列名和维度\n",
    "print(data_all.columns)\n",
    "print(data_all.ndim)"
   ]
  },
  {
   "cell_type": "markdown",
   "metadata": {},
   "source": [
    "问题：删除掉不需要分析的列以外，我们将要对哪些列进行分析？"
   ]
  },
  {
   "cell_type": "markdown",
   "metadata": {},
   "source": [
    "回答："
   ]
  },
  {
   "cell_type": "markdown",
   "metadata": {},
   "source": [
    "#### 重复行处理\n",
    "数据集中可能存在重复的行，这些行数据不是我们想要分析的，因此，我们首先需要判断下是否存在重复的行数据，若是存在，则删除该重复行数据"
   ]
  },
  {
   "cell_type": "code",
   "execution_count": 30,
   "metadata": {},
   "outputs": [
    {
     "name": "stdout",
     "output_type": "stream",
     "text": [
      "去除重复行前，数据集的维度是：(7207, 9)\n",
      "存在重复行\n",
      "去除重复行后，数据集的维度是：(7195, 9)\n"
     ]
    }
   ],
   "source": [
    "def drop_duplicat_row(data_all):\n",
    "    \"\"\"\n",
    "    功能：\n",
    "        原数据集删除重复行\n",
    "    参数：\n",
    "        data_all是DataFrame的数据集，也是本项目所用的数据集\n",
    "\n",
    "    \"\"\"\n",
    "    # TODO\n",
    "    # 判断data_all是否存在重复行，若是存在，则打印\"存在重复行\"，同时，原数据集删除重复行，且保留最后一个重复行\n",
    "    data_all.duplicated()\n",
    "    if (not (data_all.duplicated().empty)):\n",
    "        print(\"存在重复行\")\n",
    "        data_all.drop_duplicates(keep='last', inplace=True)\n",
    "\n",
    "\n",
    "print('去除重复行前，数据集的维度是：{}'.format(data_all.shape))\n",
    "drop_duplicat_row(data_all)\n",
    "print('去除重复行后，数据集的维度是：{}'.format(data_all.shape))"
   ]
  },
  {
   "cell_type": "markdown",
   "metadata": {},
   "source": [
    "问题：是否存在重复行，若存在，去除重复行后，数据集的行变为多少，列变为多少"
   ]
  },
  {
   "cell_type": "markdown",
   "metadata": {},
   "source": [
    "回答：存在，行7195，列9"
   ]
  },
  {
   "cell_type": "markdown",
   "metadata": {},
   "source": [
    "#### 缺失值处理\n",
    "一般的数据集中都存在缺失值，而根据实际情况，对缺失值的处理也不尽相同，这里，我进行简单处理，首先判断包含空值的行有多少个，然后将所有包含缺失值的行数据进行删除"
   ]
  },
  {
   "cell_type": "code",
   "execution_count": 31,
   "metadata": {},
   "outputs": [
    {
     "data": {
      "text/plain": "size_bytes          True\nprice               True\nrating_count_tot    True\nrating_count_ver    True\nuser_rating         True\nuser_rating_ver     True\nprime_genre         True\nsup_devices.num     True\nlang.num            True\ndtype: bool"
     },
     "execution_count": 31,
     "metadata": {},
     "output_type": "execute_result"
    }
   ],
   "source": [
    "# 【这里其实是想判断每行是否存在缺失值，但由于行很多，这里用列数据中是否包含空值来分析，列中包含空值，行中也是包含空值的，可以达到相同目的】\n",
    "#查看每列数据中是否包含空值，False即不包含空值，True即包含空值。\n",
    "data_all.isnull().any()"
   ]
  },
  {
   "cell_type": "code",
   "execution_count": 32,
   "metadata": {},
   "outputs": [],
   "source": [
    "def drop_nan(data_all):\n",
    "    \"\"\"\n",
    "    功能：\n",
    "        原数据集删除缺失值\n",
    "    参数：\n",
    "        data_all是DataFrame的数据集，也是本项目所用的数据集\n",
    "\n",
    "    \"\"\"\n",
    "    # TODO\n",
    "    # 计算含有空值的行的个数，若是存在含有空值的行，则本地删除含有空值的行数据\n",
    "    data_all.dropna(inplace=True)\n",
    "\n",
    "\n",
    "drop_nan(data_all)"
   ]
  },
  {
   "cell_type": "code",
   "execution_count": 33,
   "metadata": {
    "scrolled": false
   },
   "outputs": [
    {
     "data": {
      "text/plain": "size_bytes          False\nprice               False\nrating_count_tot    False\nrating_count_ver    False\nuser_rating         False\nuser_rating_ver     False\nprime_genre         False\nsup_devices.num     False\nlang.num            False\ndtype: bool"
     },
     "execution_count": 33,
     "metadata": {},
     "output_type": "execute_result"
    }
   ],
   "source": [
    "# TODO\n",
    "#查看每列数据中是否包含空值，False即不包含空值，True即包含空值\n",
    "data_all.isnull().any()"
   ]
  },
  {
   "cell_type": "code",
   "execution_count": 34,
   "metadata": {},
   "outputs": [
    {
     "name": "stdout",
     "output_type": "stream",
     "text": [
      "处理完缺失值后，数据集的维度是：(7151, 9)\n"
     ]
    }
   ],
   "source": [
    "print('处理完缺失值后，数据集的维度是：{}'.format(data_all.shape))"
   ]
  },
  {
   "cell_type": "markdown",
   "metadata": {},
   "source": [
    "问：(1)经过缺失值处理后，数据集中还有多少行数据；(2)经过以上方法验证，数据集中是否还有缺失值存在"
   ]
  },
  {
   "cell_type": "markdown",
   "metadata": {},
   "source": [
    "答：(1)还有7151行\n",
    "   (2)没了"
   ]
  },
  {
   "cell_type": "markdown",
   "metadata": {},
   "source": [
    "#### 异常值处理\n",
    "对数据经过以上处理后，我们需要对数据集的每列数据的分布有基本的了解，从以下的显示中，我们可以了解到每列数据的长度，均值，标准差，方差，最小值\n",
    "四分位数，最大值等统计信息"
   ]
  },
  {
   "cell_type": "code",
   "execution_count": 35,
   "metadata": {},
   "outputs": [
    {
     "data": {
      "text/plain": "<Figure size 720x576 with 1 Axes>",
      "image/png": "[encoded data removed]"
     },
     "metadata": {
      "needs_background": "light"
     },
     "output_type": "display_data"
    },
    {
     "name": "stdout",
     "output_type": "stream",
     "text": [
      "1037\n"
     ]
    },
    {
     "data": {
      "text/plain": "<Figure size 720x576 with 1 Axes>",
      "image/png": "[encoded data removed]"
     },
     "metadata": {
      "needs_background": "light"
     },
     "output_type": "display_data"
    },
    {
     "name": "stdout",
     "output_type": "stream",
     "text": [
      "4\n",
      "<class 'pandas.core.frame.DataFrame'>\n",
      "Int64Index: 7151 entries, 3 to 11087\n",
      "Data columns (total 9 columns):\n",
      " #   Column            Non-Null Count  Dtype  \n",
      "---  ------            --------------  -----  \n",
      " 0   size_bytes        7151 non-null   float64\n",
      " 1   price             7151 non-null   float64\n",
      " 2   rating_count_tot  7151 non-null   float64\n",
      " 3   rating_count_ver  7151 non-null   float64\n",
      " 4   user_rating       7151 non-null   float64\n",
      " 5   user_rating_ver   7151 non-null   float64\n",
      " 6   prime_genre       7151 non-null   object \n",
      " 7   sup_devices.num   7151 non-null   float64\n",
      " 8   lang.num          7151 non-null   float64\n",
      "dtypes: float64(8), object(1)\n",
      "memory usage: 558.7+ KB\n",
      "数据集中每列的信息：\n",
      " None\n"
     ]
    }
   ],
   "source": [
    "data_all.describe()\n",
    "plt.figure(figsize=(10, 8))\n",
    "p = plt.boxplot(data_all['user_rating'].values, notch=True)\n",
    "outlier1 = p['fliers'][0].get_ydata()\n",
    "plt.savefig('user_rating异常数据.png')\n",
    "plt.show()\n",
    "print(len(outlier1))\n",
    "\n",
    "plt.figure(figsize=(10, 8))\n",
    "p = plt.boxplot(data_all['user_rating_ver'].values, notch=True)\n",
    "outlier1 = p['fliers'][0].get_ydata()\n",
    "plt.savefig('user_rating_ver异常数据.png')\n",
    "plt.show()\n",
    "print(len(outlier1))\n",
    "\n",
    "print('数据集中每列的信息：\\n', data_all.info(verbose=True))"
   ]
  },
  {
   "cell_type": "markdown",
   "metadata": {},
   "source": [
    "问题：通过观察打印的统计信息，(1)经过以上数据处理后，每列的实际长度是否相同；(2)列名为user_rating和user_rating_ver的列数据中是否存在异常值"
   ]
  },
  {
   "cell_type": "markdown",
   "metadata": {},
   "source": [
    "回答：\n",
    "(1)相同\n",
    "(2)存在"
   ]
  },
  {
   "cell_type": "markdown",
   "metadata": {},
   "source": [
    "* 经过对description显示的数据分析，列名为user_rating和user_rating_ver的列数据中存在评分为0和评分大于5的评分，而评分的取值范围是(0,5]，因此，我们需要对评分为0和大于5的评分作为异常值进行处理。\n",
    "* 在此，我们将列名为user_rating和user_rating_ver的列数据中所有大于5和为0的评分进行重新设定。"
   ]
  },
  {
   "cell_type": "code",
   "execution_count": 36,
   "metadata": {
    "scrolled": true
   },
   "outputs": [
    {
     "data": {
      "text/plain": "       user_rating  user_rating_ver\ncount   7151.00000      7151.000000\nmean       3.65788         3.454412\nstd        1.22818         1.459315\nmin        1.00000         1.000000\n25%        3.50000         2.500000\n50%        4.00000         4.000000\n75%        4.50000         4.500000\nmax        5.00000         5.000000",
      "text/html": "<div>\n<style scoped>\n    .dataframe tbody tr th:only-of-type {\n        vertical-align: middle;\n    }\n\n    .dataframe tbody tr th {\n        vertical-align: top;\n    }\n\n    .dataframe thead th {\n        text-align: right;\n    }\n</style>\n<table border=\"1\" class=\"dataframe\">\n  <thead>\n    <tr style=\"text-align: right;\">\n      <th></th>\n      <th>user_rating</th>\n      <th>user_rating_ver</th>\n    </tr>\n  </thead>\n  <tbody>\n    <tr>\n      <th>count</th>\n      <td>7151.00000</td>\n      <td>7151.000000</td>\n    </tr>\n    <tr>\n      <th>mean</th>\n      <td>3.65788</td>\n      <td>3.454412</td>\n    </tr>\n    <tr>\n      <th>std</th>\n      <td>1.22818</td>\n      <td>1.459315</td>\n    </tr>\n    <tr>\n      <th>min</th>\n      <td>1.00000</td>\n      <td>1.000000</td>\n    </tr>\n    <tr>\n      <th>25%</th>\n      <td>3.50000</td>\n      <td>2.500000</td>\n    </tr>\n    <tr>\n      <th>50%</th>\n      <td>4.00000</td>\n      <td>4.000000</td>\n    </tr>\n    <tr>\n      <th>75%</th>\n      <td>4.50000</td>\n      <td>4.500000</td>\n    </tr>\n    <tr>\n      <th>max</th>\n      <td>5.00000</td>\n      <td>5.000000</td>\n    </tr>\n  </tbody>\n</table>\n</div>"
     },
     "execution_count": 36,
     "metadata": {},
     "output_type": "execute_result"
    }
   ],
   "source": [
    "# TODO\n",
    "# 将列名为user_rating和user_rating_ver的列数据中所有大于5的数据设定为5。将列数据中评分为0的异常值设定为1.\n",
    "# 要求在原数据集设定新评分值\n",
    "\n",
    "ele_lst = ['user_rating', 'user_rating_ver']\n",
    "data_all.loc[:, ele_lst].describe()\n",
    "data_all['user_rating'].replace(0, 1, inplace=True)\n",
    "data_all['user_rating_ver'].replace(0, 1, inplace=True)\n",
    "data_all.loc[data_all['user_rating'] > 5, 'user_rating'] = 5\n",
    "data_all.loc[data_all['user_rating_ver'] > 5, 'user_rating_ver'] = 5\n",
    "data_all.loc[:, ele_lst].describe()"
   ]
  },
  {
   "cell_type": "markdown",
   "metadata": {},
   "source": [
    "### 对用户数据进行分析\n",
    "rating_count_tot： 用户评分计数（适用于所有版本） <br>\n",
    "rating_count_ver：用户评分计数（当前版本） <br>\n",
    "user_rating：平均用户评分值（适用于所有版本），取值范围为(0,5]，左开右闭区间<br> \n",
    "user_rating_ver：平均用户评分值（对于当前版本）取值范围(0,5]，左开右闭区间 <br>\n",
    "* 依据user_rating，对rating_count_ver、rating_count_tot、user_rating_ver、user_rating_ver进行相关性分析，了解这四个列存在的关系"
   ]
  },
  {
   "cell_type": "code",
   "execution_count": 37,
   "metadata": {},
   "outputs": [
    {
     "data": {
      "text/plain": "array([3.5, 4. , 4.5, 5. , 3. , 2. , 2.5, 1. , 1.5])"
     },
     "execution_count": 37,
     "metadata": {},
     "output_type": "execute_result"
    }
   ],
   "source": [
    "# 了解用户评分列数据中具体包含的非重复星级评分\n",
    "data_all['user_rating'].unique()"
   ]
  },
  {
   "cell_type": "markdown",
   "metadata": {},
   "source": [
    "通过以上方法观察用户评分的数据，发现非重复数据相对较多，我们希望将评分分为三个等级来分析，以在不同等级下，对和用户评分有关的列数据进行分析。"
   ]
  },
  {
   "cell_type": "code",
   "execution_count": 38,
   "metadata": {},
   "outputs": [],
   "source": [
    "def user_rating_group(ele):\n",
    "    \"\"\"\n",
    "    功能：\n",
    "        对用户评分user_rating的数据进行类别划分\n",
    "    参数：\n",
    "        ele是用户评分的每个元素\n",
    "    返回值：\n",
    "       返回类别,字符串类型数据 \n",
    "    \"\"\"\n",
    "    # TODO\n",
    "    # 对用户评分user_rating进行类别划分，要求小于等于2.5的数值设定为'good'，大于等于4.5的设定为'best'，其他的设置为'better'\n",
    "    if ele <= 2.5:\n",
    "        type = 'good'\n",
    "    elif ele >= 4.5:\n",
    "        type = 'best'\n",
    "    else:\n",
    "        type = 'better'\n",
    "\n",
    "    return type\n",
    "\n",
    "\n",
    "data_all['user_rating_group'] = data_all['user_rating'].apply(user_rating_group)"
   ]
  },
  {
   "cell_type": "markdown",
   "metadata": {},
   "source": [
    "对用户评分进行类别划分后，希望依据用户评分类别数据对rating_count_ver、rating_count_tot、user_rating_ver、user_rating_ver进行相关性分析"
   ]
  },
  {
   "cell_type": "code",
   "execution_count": 39,
   "metadata": {
    "scrolled": true
   },
   "outputs": [
    {
     "name": "stdout",
     "output_type": "stream",
     "text": [
      "    user_rating_group  rating_count_tot  rating_count_ver\n",
      "3              better          188583.0            2822.0\n",
      "4              better          262241.0             649.0\n",
      "5                best          985920.0            5320.0\n",
      "6              better            8253.0            5516.0\n",
      "7              better          119487.0             879.0\n",
      "..                ...               ...               ...\n",
      "111              best           16434.0               3.0\n",
      "112              best           10046.0               7.0\n",
      "113            better           29107.0              85.0\n",
      "114            better             878.0              48.0\n",
      "115            better            1140.0              20.0\n",
      "\n",
      "[100 rows x 3 columns]\n",
      "                   user_rating  user_rating_ver\n",
      "user_rating_group                              \n",
      "best                  4.579517         4.286260\n",
      "better                3.729236         3.531657\n",
      "good                  1.321104         1.319213\n"
     ]
    },
    {
     "name": "stderr",
     "output_type": "stream",
     "text": [
      "<ipython-input-39-dbce16726a8f>:1: FutureWarning: Indexing with multiple keys (implicitly converted to a tuple of keys) will be deprecated, use a list instead.\n",
      "  mean_value = data_all.groupby('user_rating_group')[\n",
      "<ipython-input-39-dbce16726a8f>:60: FutureWarning: Indexing with multiple keys (implicitly converted to a tuple of keys) will be deprecated, use a list instead.\n",
      "  rating_count_data = data_all.groupby('user_rating_group')[\n",
      "<ipython-input-39-dbce16726a8f>:63: FutureWarning: Indexing with multiple keys (implicitly converted to a tuple of keys) will be deprecated, use a list instead.\n",
      "  user_rating_data = data_all.groupby('user_rating_group')[\n"
     ]
    }
   ],
   "source": [
    "mean_value = data_all.groupby('user_rating_group')[\n",
    "    'user_rating_group', 'rating_count_tot', 'rating_count_ver'].mean()\n",
    "#print(mean_value)\n",
    "\n",
    "\n",
    "def process(ele):\n",
    "    \"\"\"\n",
    "    功能：\n",
    "        [依据用户评分类别user_rating_group]，对'rating_count_tot','rating_count_ver'数据中的0值替换为[组内均值]，\n",
    "        替换之后，对组内的数据进行组内均值计算，且保留两位小数\n",
    "    参数：\n",
    "        ele是'rating_count_tot','rating_count_ver'的一组元素(可以打印出来理解一下)\n",
    "    返回值：\n",
    "       对 'rating_count_tot','rating_count_ver'进行组内计算均值后，返回这一组均值。\n",
    "    \"\"\"\n",
    "    # TODO\n",
    "    # 对'rating_count_tot','rating_count_ver'数据中的0值替换为组内均值，替换之后，对组内的数据进行组内均值计算，且保留两位小数\n",
    "    #print(ele)\n",
    "    # in [rating_count_tot] find 1st 0.0, check whether 0.0 <-> good/better/best, and then replace 0.0 with the mean value of the corresponding group\n",
    "    rating_count = ['rating_count_tot', 'rating_count_ver']\n",
    "    group = ['best', 'better', 'good']\n",
    "    for some_col in rating_count:\n",
    "        for classification in group:\n",
    "            ele.loc[(ele[some_col] == 0.0) & (ele['user_rating_group'] == classification), some_col] = mean_value.at[\n",
    "                classification, some_col]\n",
    "    return ele\n",
    "\n",
    "\n",
    "# rating_count_tot： 用户评分计数（适用于所有版本）\n",
    "# rating_count_ver：用户评分计数（当前版本）\n",
    "# user_rating_ver\n",
    "# user_rating\n",
    "'''print(data_all.groupby('user_rating_group')[\n",
    "    'user_rating_group', 'rating_count_tot', 'rating_count_ver'].head())'''\n",
    "rating_count_data = data_all.groupby('user_rating_group')[\n",
    "    'user_rating_group', 'rating_count_tot', 'rating_count_ver'].apply(process)\n",
    "print(rating_count_data.head(100))\n",
    "user_rating_data = data_all.groupby('user_rating_group')[\n",
    "    'user_rating_group', 'user_rating', 'user_rating_ver'].mean()\n",
    "print(user_rating_data.head())"
   ]
  },
  {
   "cell_type": "code",
   "execution_count": 40,
   "metadata": {
    "scrolled": false
   },
   "outputs": [
    {
     "name": "stdout",
     "output_type": "stream",
     "text": [
      "                   rating_count_tot  rating_count_ver\n",
      "user_rating_group                                    \n",
      "best                   6.259915e+07      2.771105e+06\n",
      "better                 2.565577e+07      7.348880e+05\n",
      "good                   2.347715e+06      3.217216e+04\n"
     ]
    },
    {
     "data": {
      "text/plain": "<Figure size 1080x1080 with 4 Axes>",
      "image/png": "[encoded data removed]"
     },
     "metadata": {
      "needs_background": "light"
     },
     "output_type": "display_data"
    }
   ],
   "source": [
    "# TODO\n",
    "# 绘图\n",
    "# 依据计算出来的rating_count_data和user_rating_data数据，通过绘制[2行2列]的图显示[user_rating_group对应类别，各数据的走势]。\n",
    "# 由于横轴均是user_rating_group，因此，使用subplots设置参数共享x轴\n",
    "x_label = ['best', 'better', 'good']\n",
    "y1_values = user_rating_data.user_rating\n",
    "y2_values = user_rating_data.user_rating_ver\n",
    "new_rating_count_data = rating_count_data.groupby(by='user_rating_group').agg(np.sum)\n",
    "y3_values = new_rating_count_data.rating_count_tot\n",
    "y4_values = new_rating_count_data.rating_count_ver\n",
    "p = plt.figure(figsize=(15, 15))\n",
    "\n",
    "ax1 = p.add_subplot(2, 2, 1)\n",
    "figure1 = plt.bar(x=range(len(x_label)), height=y1_values, tick_label=x_label)\n",
    "\n",
    "ax2 = p.add_subplot(2, 2, 2)\n",
    "figure2 = plt.bar(x=range(len(x_label)), height=y2_values, tick_label=x_label)\n",
    "\n",
    "print(new_rating_count_data)\n",
    "ax3 = p.add_subplot(2, 2, 3)\n",
    "figure3 = plt.bar(x=range(len(x_label)), height=y3_values, tick_label=x_label)\n",
    "\n",
    "ax4 = p.add_subplot(2, 2, 4)\n",
    "figure4 = plt.bar(x=range(len(x_label)), height=y4_values, tick_label=x_label)\n",
    "\n",
    "plt.show()"
   ]
  },
  {
   "cell_type": "markdown",
   "metadata": {},
   "source": [
    "问题：总以上四个小图中，可以得出什么结论"
   ]
  },
  {
   "cell_type": "markdown",
   "metadata": {},
   "source": [
    "回答：越好的应用评分越多？"
   ]
  },
  {
   "cell_type": "markdown",
   "metadata": {},
   "source": [
    "### 对prime_genre数据分析"
   ]
  },
  {
   "cell_type": "markdown",
   "metadata": {},
   "source": [
    "* prime_genre表明了这个app应用所属类型，比如健康类性、旅游类型、咨询类型、游戏类型、音乐类型等等，并且有的app应用会同属于几个类型。这时，我们需要对数据进行处理，以进行下一步分析。\n",
    "* 当app应用同属于几个类型时，我们仅保留一个作为这个app应用所属类型。"
   ]
  },
  {
   "cell_type": "code",
   "execution_count": 41,
   "metadata": {
    "scrolled": true
   },
   "outputs": [
    {
     "data": {
      "text/plain": "array(['Weather', 'Shopping', 'Reference', 'Games', 'Finance', 'Music',\n       'Utilities', 'Travel', 'Social Networking', 'Sports', 'Business',\n       'Health & Fitness', 'Productivity', 'Entertainment',\n       'Photo & Video', 'Navigation', 'Education', 'Lifestyle',\n       'Food & Drink', 'News', 'Book', 'Medical', 'Catalogs'],\n      dtype=object)"
     },
     "execution_count": 41,
     "metadata": {},
     "output_type": "execute_result"
    }
   ],
   "source": [
    "# 对prime_genre数据进行类别查看，观察是否存在一个app应用同属于多个类别的情况。\n",
    "data_all['prime_genre'].unique()"
   ]
  },
  {
   "cell_type": "markdown",
   "metadata": {},
   "source": [
    "问题：从打印的结果中，我们发现一个app应用可能同属于多个类型吗，多个类型以什么符号进行连接"
   ]
  },
  {
   "cell_type": "markdown",
   "metadata": {},
   "source": [
    "回答：可能，用&"
   ]
  },
  {
   "cell_type": "code",
   "execution_count": 42,
   "metadata": {},
   "outputs": [],
   "source": [
    "# TODO\n",
    "# 当app应用所属类型大于2个时，在所属类型prime_genre中，则多个类型之间以&进行类型连接\n",
    "# 现在我们仅需要保留多个类型中的第一个类型，将该类型作为该app所属类型\n",
    "# 最后将处理后的数据，以新的列数据保存在原数据集data_all中，列名为prime_genre_class，且将prime_genre列数据从原数据集中删除\n",
    "data_all['prime_genre'].replace('Health & Fitness', 'Health', inplace=True)\n",
    "data_all['prime_genre'].replace('Photo & Video', 'Photo', inplace=True)\n",
    "data_all['prime_genre'].replace('Food & Drink', 'Food', inplace=True)\n",
    "data_all.rename(columns={'prime_genre': 'prime_genre_class'}, inplace=True)"
   ]
  },
  {
   "cell_type": "code",
   "execution_count": 43,
   "metadata": {
    "scrolled": true
   },
   "outputs": [
    {
     "data": {
      "text/plain": "array(['Weather', 'Shopping', 'Reference', 'Games', 'Finance', 'Music',\n       'Utilities', 'Travel', 'Social Networking', 'Sports', 'Business',\n       'Health', 'Productivity', 'Entertainment', 'Photo', 'Navigation',\n       'Education', 'Lifestyle', 'Food', 'News', 'Book', 'Medical',\n       'Catalogs'], dtype=object)"
     },
     "execution_count": 43,
     "metadata": {},
     "output_type": "execute_result"
    }
   ],
   "source": [
    "# TODO\n",
    "# 对新生成的prime_genre_class数据进行类别查看，观察是否还存在包含&的类型。\n",
    "data_all['prime_genre_class'].unique()"
   ]
  },
  {
   "cell_type": "markdown",
   "metadata": {},
   "source": [
    "* 现在我们只关心用户评分较高的一些app应用的列，需要按照prime_genre_class的数据进行分类，通过计算每类app应用size_bytes的均值，了解app应用属于哪种类型时，这类app应用占用的内存较高，且支持设备的个数如何。"
   ]
  },
  {
   "cell_type": "code",
   "execution_count": 44,
   "metadata": {},
   "outputs": [
    {
     "data": {
      "text/plain": "(3144, 10)"
     },
     "execution_count": 44,
     "metadata": {},
     "output_type": "execute_result"
    }
   ],
   "source": [
    "# 得到用户评级分较高的数据\n",
    "dataset = data_all[(data_all['user_rating_group'] == 'best')]\n",
    "dataset.shape"
   ]
  },
  {
   "cell_type": "code",
   "execution_count": 45,
   "metadata": {},
   "outputs": [
    {
     "name": "stdout",
     "output_type": "stream",
     "text": [
      "MultiIndex([('size_bytes',  9.0),\n",
      "            ('size_bytes', 11.0),\n",
      "            ('size_bytes', 12.0),\n",
      "            ('size_bytes', 13.0),\n",
      "            ('size_bytes', 15.0),\n",
      "            ('size_bytes', 16.0),\n",
      "            ('size_bytes', 23.0),\n",
      "            ('size_bytes', 24.0),\n",
      "            ('size_bytes', 25.0),\n",
      "            ('size_bytes', 26.0),\n",
      "            ('size_bytes', 33.0),\n",
      "            ('size_bytes', 35.0),\n",
      "            ('size_bytes', 36.0),\n",
      "            ('size_bytes', 37.0),\n",
      "            ('size_bytes', 38.0),\n",
      "            ('size_bytes', 39.0),\n",
      "            ('size_bytes', 40.0),\n",
      "            ('size_bytes', 43.0),\n",
      "            ('size_bytes', 45.0),\n",
      "            ('size_bytes', 47.0)],\n",
      "           names=[None, 'sup_devices.num'])\n",
      "********************************************我是一条分割线********************************************\n",
      "            sup_devices.num\n",
      "size_bytes  9.0                float64\n",
      "            11.0               float64\n",
      "            12.0               float64\n",
      "            13.0               float64\n",
      "            15.0               float64\n",
      "            16.0               float64\n",
      "            23.0               float64\n",
      "            24.0               float64\n",
      "            25.0               float64\n",
      "            26.0               float64\n",
      "            33.0               float64\n",
      "            35.0               float64\n",
      "            36.0               float64\n",
      "            37.0               float64\n",
      "            38.0               float64\n",
      "            39.0               float64\n",
      "            40.0               float64\n",
      "            43.0               float64\n",
      "            45.0               float64\n",
      "            47.0               float64\n",
      "dtype: object\n",
      "********************************************我是一条分割线********************************************\n",
      "<class 'pandas.core.frame.DataFrame'>\n",
      "Index: 23 entries, Book to Weather\n",
      "Data columns (total 20 columns):\n",
      " #   Column              Non-Null Count  Dtype  \n",
      "---  ------              --------------  -----  \n",
      " 0   (size_bytes, 9.0)   1 non-null      float64\n",
      " 1   (size_bytes, 11.0)  2 non-null      float64\n",
      " 2   (size_bytes, 12.0)  1 non-null      float64\n",
      " 3   (size_bytes, 13.0)  1 non-null      float64\n",
      " 4   (size_bytes, 15.0)  2 non-null      float64\n",
      " 5   (size_bytes, 16.0)  5 non-null      float64\n",
      " 6   (size_bytes, 23.0)  1 non-null      float64\n",
      " 7   (size_bytes, 24.0)  22 non-null     float64\n",
      " 8   (size_bytes, 25.0)  11 non-null     float64\n",
      " 9   (size_bytes, 26.0)  13 non-null     float64\n",
      " 10  (size_bytes, 33.0)  1 non-null      float64\n",
      " 11  (size_bytes, 35.0)  6 non-null      float64\n",
      " 12  (size_bytes, 36.0)  2 non-null      float64\n",
      " 13  (size_bytes, 37.0)  23 non-null     float64\n",
      " 14  (size_bytes, 38.0)  23 non-null     float64\n",
      " 15  (size_bytes, 39.0)  6 non-null      float64\n",
      " 16  (size_bytes, 40.0)  22 non-null     float64\n",
      " 17  (size_bytes, 43.0)  18 non-null     float64\n",
      " 18  (size_bytes, 45.0)  2 non-null      float64\n",
      " 19  (size_bytes, 47.0)  3 non-null      float64\n",
      "dtypes: float64(20)\n",
      "memory usage: 3.8+ KB\n",
      "None\n",
      "********************************************我是一条分割线********************************************\n",
      "[[           nan            nan            nan            nan\n",
      "             nan            nan            nan 4.04797440e+07\n",
      "             nan            nan            nan            nan\n",
      "             nan 2.11322187e+08 1.37057545e+08 2.98639360e+08\n",
      "  1.07248719e+08 1.77553408e+08            nan            nan]\n",
      " [           nan 9.15773440e+07            nan            nan\n",
      "             nan            nan            nan 6.81835520e+07\n",
      "             nan            nan            nan            nan\n",
      "             nan 6.73099177e+07 6.34979474e+07            nan\n",
      "  3.37414827e+07 1.63328000e+07            nan            nan]\n",
      " [           nan            nan            nan            nan\n",
      "             nan            nan            nan            nan\n",
      "             nan            nan            nan            nan\n",
      "             nan 5.51304046e+07 3.86344960e+07            nan\n",
      "             nan            nan            nan            nan]\n",
      " [           nan            nan            nan            nan\n",
      "             nan 2.54489600e+08            nan 2.10312704e+08\n",
      "  5.13771520e+08 2.06270048e+08            nan            nan\n",
      "  2.27133440e+07 1.65289519e+08 2.17215783e+08 2.05376853e+08\n",
      "  1.68624080e+08 4.95498531e+07            nan 7.67126000e+05]\n",
      " [           nan            nan            nan            nan\n",
      "             nan 1.04206336e+08            nan 9.21399494e+07\n",
      "  1.35815373e+08 2.88085723e+07            nan 3.17423445e+08\n",
      "             nan 7.76337230e+07 1.41699945e+08 2.32399872e+08\n",
      "  1.74803118e+08 6.91253403e+07            nan            nan]\n",
      " [           nan            nan            nan            nan\n",
      "             nan            nan            nan 6.85174784e+07\n",
      "             nan 6.83581440e+07            nan            nan\n",
      "             nan 9.60460428e+07 6.01224844e+07            nan\n",
      "  4.21360640e+07 1.59162670e+07            nan            nan]\n",
      " [           nan            nan            nan            nan\n",
      "             nan            nan            nan 1.60399360e+07\n",
      "             nan            nan            nan            nan\n",
      "             nan 9.04984121e+07 4.25496747e+07            nan\n",
      "  5.63247787e+07            nan            nan            nan]\n",
      " [           nan            nan            nan            nan\n",
      "             nan 2.67299046e+09            nan 7.25464024e+08\n",
      "  9.97432092e+08 2.16164647e+08 2.17008640e+09 8.16516003e+08\n",
      "  9.82620331e+08 2.90565494e+08 2.55157758e+08 7.57684564e+08\n",
      "  2.19623995e+08 2.18647646e+08 1.71735326e+08 3.64496161e+07]\n",
      " [1.47619840e+07            nan            nan 2.91679086e+07\n",
      "  3.11572480e+07            nan 6.32719360e+07 7.00907520e+07\n",
      "             nan 1.76138240e+07            nan            nan\n",
      "             nan 9.68170885e+07 1.00349383e+08            nan\n",
      "  5.01504000e+07 4.93308587e+07            nan            nan]\n",
      " [           nan 3.03165440e+07            nan            nan\n",
      "             nan            nan            nan 3.41319680e+07\n",
      "  5.83260160e+07            nan            nan            nan\n",
      "             nan 7.10188722e+07 4.66767209e+07            nan\n",
      "  5.24331520e+07 1.68536747e+07            nan 8.07320900e+06]\n",
      " [           nan            nan            nan            nan\n",
      "             nan            nan            nan 9.74118912e+08\n",
      "  9.79960832e+08            nan            nan            nan\n",
      "             nan 4.34138857e+08 2.29595136e+08            nan\n",
      "  5.69344000e+06 8.48855040e+07            nan            nan]\n",
      " [           nan            nan            nan            nan\n",
      "             nan 2.94277120e+07            nan 1.64647863e+08\n",
      "  1.14004582e+08            nan            nan 1.19328256e+08\n",
      "             nan 1.11698622e+08 9.36391680e+07            nan\n",
      "  2.86069760e+07 2.30732228e+07            nan            nan]\n",
      " [           nan            nan            nan            nan\n",
      "             nan            nan            nan 7.09412864e+08\n",
      "             nan 3.62291200e+07            nan            nan\n",
      "             nan 6.78548800e+07 4.66161371e+07 4.12070590e+07\n",
      "  2.54812160e+07            nan            nan            nan]\n",
      " [           nan            nan            nan            nan\n",
      "             nan            nan            nan 2.84953600e+07\n",
      "  5.86342400e+06 4.34887500e+06            nan            nan\n",
      "             nan 6.70551474e+07 6.14833152e+07            nan\n",
      "  2.35120640e+07            nan            nan            nan]\n",
      " [           nan            nan            nan            nan\n",
      "  1.43550464e+08            nan            nan 8.16857088e+07\n",
      "  7.72249600e+07 3.43101440e+07            nan 1.26716587e+07\n",
      "             nan 7.39643012e+07 5.80775322e+07 1.04693760e+07\n",
      "  3.07933440e+07 2.24419840e+07            nan            nan]\n",
      " [           nan            nan            nan            nan\n",
      "             nan 2.24317440e+07            nan 5.50664777e+07\n",
      "  5.86393600e+06            nan            nan 1.01574656e+08\n",
      "             nan 9.21525214e+07 3.90086217e+07            nan\n",
      "  3.33312000e+07 1.35181653e+07            nan            nan]\n",
      " [           nan            nan            nan            nan\n",
      "             nan            nan            nan 9.91168000e+07\n",
      "             nan 7.32241920e+07            nan            nan\n",
      "             nan 1.73573278e+08 1.38918766e+08            nan\n",
      "  1.35158374e+08 7.07079160e+07            nan            nan]\n",
      " [           nan            nan            nan            nan\n",
      "             nan            nan            nan 1.26294835e+08\n",
      "             nan            nan            nan            nan\n",
      "             nan 9.19624197e+07 9.03870080e+07            nan\n",
      "  1.53785344e+08            nan            nan            nan]\n",
      " [           nan            nan 1.35044096e+08            nan\n",
      "             nan            nan            nan 7.69085440e+07\n",
      "  1.93064960e+07 3.00277760e+07            nan 1.12069632e+08\n",
      "             nan 8.83671690e+07 4.60914796e+07            nan\n",
      "  5.54418176e+07 4.89926433e+06 4.30326200e+06            nan]\n",
      " [           nan            nan            nan            nan\n",
      "             nan            nan            nan 5.19075840e+07\n",
      "             nan            nan            nan            nan\n",
      "             nan 9.04311738e+07 3.75537280e+07            nan\n",
      "  3.15996160e+07 6.00576000e+07            nan            nan]\n",
      " [           nan            nan            nan            nan\n",
      "             nan            nan            nan 3.71619840e+07\n",
      "             nan 2.70643200e+06            nan            nan\n",
      "             nan 9.27892874e+07 3.57820416e+07            nan\n",
      "  7.76843947e+07 3.72142080e+07            nan            nan]\n",
      " [           nan            nan            nan            nan\n",
      "             nan            nan            nan 7.02761984e+07\n",
      "  3.31082240e+07 3.56956160e+07            nan            nan\n",
      "             nan 5.73036442e+07 4.76032100e+07            nan\n",
      "  3.47768875e+07 2.42682880e+07            nan            nan]\n",
      " [           nan            nan            nan            nan\n",
      "             nan            nan            nan 4.03184640e+07\n",
      "             nan 8.09369600e+06            nan            nan\n",
      "             nan 7.55048908e+07 4.12195375e+07            nan\n",
      "  1.75906816e+07 6.65190400e+06            nan            nan]]\n",
      "********************************************我是一条分割线********************************************\n",
      "prime_genre_class\n",
      "Book             1.620502e+08\n",
      "Business         5.677384e+07\n",
      "Catalogs         4.688245e+07\n",
      "Education        1.831255e+08\n",
      "Entertainment    1.374056e+08\n",
      "dtype: float64\n",
      "********************************************我是一条分割线********************************************\n",
      "                  size_bytes                                                                                                                                                                                                          \n",
      "sup_devices.num         9.0         11.0 12.0 13.0 15.0         16.0 23.0          24.0         25.0          26.0 33.0          35.0        36.0          37.0          38.0          39.0          40.0          43.0 45.0      47.0\n",
      "prime_genre_class                                                                                                                                                                                                                     \n",
      "Book                     NaN         NaN  NaN  NaN  NaN          NaN  NaN  4.047974e+07          NaN           NaN  NaN           NaN         NaN  2.113222e+08  1.370575e+08  2.986394e+08  1.072487e+08  1.775534e+08  NaN       NaN\n",
      "Business                 NaN  91577344.0  NaN  NaN  NaN          NaN  NaN  6.818355e+07          NaN           NaN  NaN           NaN         NaN  6.730992e+07  6.349795e+07           NaN  3.374148e+07  1.633280e+07  NaN       NaN\n",
      "Catalogs                 NaN         NaN  NaN  NaN  NaN          NaN  NaN           NaN          NaN           NaN  NaN           NaN         NaN  5.513040e+07  3.863450e+07           NaN           NaN           NaN  NaN       NaN\n",
      "Education                NaN         NaN  NaN  NaN  NaN  254489600.0  NaN  2.103127e+08  513771520.0  2.062700e+08  NaN           NaN  22713344.0  1.652895e+08  2.172158e+08  2.053769e+08  1.686241e+08  4.954985e+07  NaN  767126.0\n",
      "Entertainment            NaN         NaN  NaN  NaN  NaN  104206336.0  NaN  9.213995e+07  135815372.8  2.880857e+07  NaN  3.174234e+08         NaN  7.763372e+07  1.416999e+08  2.323999e+08  1.748031e+08  6.912534e+07  NaN       NaN\n"
     ]
    }
   ],
   "source": [
    "# TODO\n",
    "# 使用透视表对size_bytes数据计算均值，其中行索引设置为prime_genre_class数据，列索引设置为sup_devices.num数据\n",
    "site_bytes_data = pd.pivot_table(data=data_all[['size_bytes', 'prime_genre_class', 'sup_devices.num']],\n",
    "                                 index='prime_genre_class', columns='sup_devices.num')\n",
    "site_bytes_data.shape\n",
    "print(site_bytes_data.columns)\n",
    "print(\"********************************************我是一条分割线********************************************\")\n",
    "print(site_bytes_data.dtypes)\n",
    "print(\"********************************************我是一条分割线********************************************\")\n",
    "print(site_bytes_data.info(verbose=True))\n",
    "print(\"********************************************我是一条分割线********************************************\")\n",
    "print(site_bytes_data.values)\n",
    "print(\"********************************************我是一条分割线********************************************\")\n",
    "print(site_bytes_data.mean(1).head())\n",
    "print(\"********************************************我是一条分割线********************************************\")\n",
    "\n",
    "pd.set_option('display.max_columns', 21)\n",
    "pd.set_option('display.width', 2100)\n",
    "print(site_bytes_data.head())"
   ]
  },
  {
   "cell_type": "markdown",
   "source": [
    "问题：关于所属类型prime_genre_class和支持设备的数量sup_devices.num对app应用占内存情况进行分析，可以作图进行分析，它们之间的关系是？"
   ],
   "metadata": {
    "collapsed": false
   }
  },
  {
   "cell_type": "markdown",
   "metadata": {
    "scrolled": false
   },
   "source": [
    "回答：在不同用户评分类别中，app应用的占内存大小和支持设备数量存在某种关系"
   ]
  },
  {
   "cell_type": "markdown",
   "metadata": {},
   "source": [
    "### 发散题"
   ]
  },
  {
   "cell_type": "markdown",
   "metadata": {},
   "source": [
    "* 题目要求：<br>\n",
    "在以上分析中，我们通过观察分析，了解到，在不同用户评分类别中，app应用的占内存大小和支持语言数量是存在某种关系的，现在我们需要对不同类别的占内存大小和支持语言数量的关系进行进一步分析，必要的话可以进行相应的数据处理，并且可以选择任意合适的图来分析这种关系。\n"
   ]
  },
  {
   "cell_type": "code",
   "execution_count": 46,
   "metadata": {},
   "outputs": [
    {
     "name": "stdout",
     "output_type": "stream",
     "text": [
      "<class 'list'>\n",
      "<class 'list'>\n"
     ]
    },
    {
     "data": {
      "text/plain": "<Figure size 432x288 with 1 Axes>",
      "image/png": "[encoded data removed]"
     },
     "metadata": {
      "needs_background": "light"
     },
     "output_type": "display_data"
    },
    {
     "name": "stdout",
     "output_type": "stream",
     "text": [
      "            sup_devices.num\n",
      "size_bytes  9.0                1.476198e+07\n",
      "            11.0               6.094694e+07\n",
      "            12.0               1.350441e+08\n",
      "            13.0               2.916791e+07\n",
      "            15.0               8.735386e+07\n",
      "            16.0               6.167092e+08\n",
      "            23.0               6.327194e+07\n",
      "            24.0               1.745805e+08\n",
      "            25.0               2.673343e+08\n",
      "            26.0               5.860393e+07\n",
      "            33.0               2.170086e+09\n",
      "            35.0               2.465973e+08\n",
      "            36.0               5.026668e+08\n",
      "            37.0               1.190621e+08\n",
      "            38.0               8.995380e+07\n",
      "            39.0               2.576295e+08\n",
      "            40.0               7.084278e+07\n",
      "            43.0               5.339044e+07\n",
      "            45.0               8.801929e+07\n",
      "            47.0               1.509665e+07\n",
      "dtype: float64\n",
      "[('size_bytes', 9.0), ('size_bytes', 11.0), ('size_bytes', 12.0), ('size_bytes', 13.0), ('size_bytes', 15.0), ('size_bytes', 16.0), ('size_bytes', 23.0), ('size_bytes', 24.0), ('size_bytes', 25.0), ('size_bytes', 26.0), ('size_bytes', 33.0), ('size_bytes', 35.0), ('size_bytes', 36.0), ('size_bytes', 37.0), ('size_bytes', 38.0), ('size_bytes', 39.0), ('size_bytes', 40.0), ('size_bytes', 43.0), ('size_bytes', 45.0), ('size_bytes', 47.0)]\n",
      "[14761984.0, 60946944.0, 135044096.0, 29167908.57142857, 87353856.0, 616709171.2, 63271936.0, 174580531.92733648, 267334314.14949495, 58603929.69851553, 2170086400.0, 246597275.15151513, 502666837.3333333, 119062080.49421759, 89953800.8229045, 257629514.03333333, 70842779.30509797, 53390439.12415841, 88019294.14285715, 15096650.375]\n"
     ]
    }
   ],
   "source": [
    "#逐类体积\n",
    "vertical_site_bytes_data = site_bytes_data.mean(1)\n",
    "#print(vertical_site_bytes_data)\n",
    "#print(type(vertical_site_bytes_data))\n",
    "pd.set_option('display.width', 210)\n",
    "print(type(vertical_site_bytes_data.index.tolist()))\n",
    "print(type(vertical_site_bytes_data.values.tolist()))\n",
    "\n",
    "x_label = vertical_site_bytes_data.index.tolist()\n",
    "y_values = vertical_site_bytes_data.values.tolist()\n",
    "p = plt.figure()\n",
    "figure1 = plt.bar(x=range(len(x_label)), height=y_values, tick_label=x_label)\n",
    "plt.show()\n",
    "\n",
    "#逐类支援设备数\n",
    "horizontal_site_bytes_data = site_bytes_data.mean()\n",
    "#print(horizontal_site_bytes_data)\n",
    "print(horizontal_site_bytes_data)\n",
    "print(horizontal_site_bytes_data.index.tolist())\n",
    "print(horizontal_site_bytes_data.values.tolist())\n"
   ]
  },
  {
   "cell_type": "code",
   "execution_count": 46,
   "metadata": {},
   "outputs": [],
   "source": []
  },
  {
   "cell_type": "code",
   "execution_count": 46,
   "metadata": {},
   "outputs": [],
   "source": []
  }
 ],
 "metadata": {
  "kernelspec": {
   "display_name": "Python 3",
   "language": "python",
   "name": "python3"
  },
  "language_info": {
   "codemirror_mode": {
    "name": "ipython",
    "version": 3
   },
   "file_extension": ".py",
   "mimetype": "text/x-python",
   "name": "python",
   "nbconvert_exporter": "python",
   "pygments_lexer": "ipython3",
   "version": "3.6.6+"
  }
 },
 "nbformat": 4,
 "nbformat_minor": 2
}